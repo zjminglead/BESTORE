{
  "nbformat": 4,
  "nbformat_minor": 0,
  "metadata": {
    "colab": {
      "name": "data_output.ipynb",
      "provenance": [],
      "collapsed_sections": [],
      "toc_visible": true,
      "authorship_tag": "ABX9TyPomTFF46Nf3FrNtI45If8Z",
      "include_colab_link": true
    },
    "kernelspec": {
      "name": "python3",
      "display_name": "Python 3"
    },
    "language_info": {
      "name": "python"
    }
  },
  "cells": [
    {
      "cell_type": "markdown",
      "metadata": {
        "id": "view-in-github",
        "colab_type": "text"
      },
      "source": [
        "<a href=\"https://colab.research.google.com/github/zjminglead/BESTORE/blob/master/data_output.ipynb\" target=\"_parent\"><img src=\"https://colab.research.google.com/assets/colab-badge.svg\" alt=\"Open In Colab\"/></a>"
      ]
    },
    {
      "cell_type": "code",
      "metadata": {
        "colab": {
          "base_uri": "https://localhost:8080/"
        },
        "id": "A5Nk4PXGoRBf",
        "outputId": "83b8305a-c572-4ae3-e0c4-84f005e91c6d"
      },
      "source": [
        "from google.colab import drive\n",
        "drive.mount('/content/drive/')\n",
        "!pwd"
      ],
      "execution_count": null,
      "outputs": [
        {
          "output_type": "stream",
          "name": "stdout",
          "text": [
            "Mounted at /content/drive/\n",
            "/content\n"
          ]
        }
      ]
    },
    {
      "cell_type": "markdown",
      "metadata": {
        "id": "E45J1J6io8-I"
      },
      "source": [
        "# 结果导出"
      ]
    },
    {
      "cell_type": "markdown",
      "metadata": {
        "id": "bKAtvdV4o_sV"
      },
      "source": [
        "# 导出为.xlsx\n",
        "\n",
        "- 在Python中将文件导出为.xlsx格式，用到的是df.to_excel()方法"
      ]
    },
    {
      "cell_type": "markdown",
      "metadata": {
        "id": "45qOyfq6peWm"
      },
      "source": [
        "## 1.设置文件的导出路径\n",
        "\n",
        "- 设置文件导出路径就是告诉Python要将这个文件导出到电脑的哪个文件夹里，且导出以后这个文件叫什么。\n",
        "\n",
        "- 通过调整参数excel_writer的值即可实现。"
      ]
    },
    {
      "cell_type": "code",
      "metadata": {
        "colab": {
          "base_uri": "https://localhost:8080/",
          "height": 175
        },
        "id": "xgRwZ494pnUP",
        "outputId": "8b68e525-8180-481a-9959-5d090f5ee079"
      },
      "source": [
        "import pandas as pd\n",
        "\n",
        "df = pd.DataFrame([[100,'A类','湖北','5000'],\n",
        "                   [101,'B类','广州','7000'],\n",
        "                   [102,'C类','北京','10000'],\n",
        "                   [103,'A类','上海','12000']], \n",
        "                  columns = ['用户ID','客户分类','省会','收入'])\n",
        "df"
      ],
      "execution_count": null,
      "outputs": [
        {
          "output_type": "execute_result",
          "data": {
            "text/html": [
              "<div>\n",
              "<style scoped>\n",
              "    .dataframe tbody tr th:only-of-type {\n",
              "        vertical-align: middle;\n",
              "    }\n",
              "\n",
              "    .dataframe tbody tr th {\n",
              "        vertical-align: top;\n",
              "    }\n",
              "\n",
              "    .dataframe thead th {\n",
              "        text-align: right;\n",
              "    }\n",
              "</style>\n",
              "<table border=\"1\" class=\"dataframe\">\n",
              "  <thead>\n",
              "    <tr style=\"text-align: right;\">\n",
              "      <th></th>\n",
              "      <th>用户ID</th>\n",
              "      <th>客户分类</th>\n",
              "      <th>省会</th>\n",
              "      <th>收入</th>\n",
              "    </tr>\n",
              "  </thead>\n",
              "  <tbody>\n",
              "    <tr>\n",
              "      <th>0</th>\n",
              "      <td>100</td>\n",
              "      <td>A类</td>\n",
              "      <td>湖北</td>\n",
              "      <td>5000</td>\n",
              "    </tr>\n",
              "    <tr>\n",
              "      <th>1</th>\n",
              "      <td>101</td>\n",
              "      <td>B类</td>\n",
              "      <td>广州</td>\n",
              "      <td>7000</td>\n",
              "    </tr>\n",
              "    <tr>\n",
              "      <th>2</th>\n",
              "      <td>102</td>\n",
              "      <td>C类</td>\n",
              "      <td>北京</td>\n",
              "      <td>10000</td>\n",
              "    </tr>\n",
              "    <tr>\n",
              "      <th>3</th>\n",
              "      <td>103</td>\n",
              "      <td>A类</td>\n",
              "      <td>上海</td>\n",
              "      <td>12000</td>\n",
              "    </tr>\n",
              "  </tbody>\n",
              "</table>\n",
              "</div>"
            ],
            "text/plain": [
              "   用户ID 客户分类  省会     收入\n",
              "0   100   A类  湖北   5000\n",
              "1   101   B类  广州   7000\n",
              "2   102   C类  北京  10000\n",
              "3   103   A类  上海  12000"
            ]
          },
          "metadata": {},
          "execution_count": 3
        }
      ]
    },
    {
      "cell_type": "code",
      "metadata": {
        "id": "c9KBspVCqfVf"
      },
      "source": [
        "df.to_excel(excel_writer=r'/content/drive/MyDrive/BESTROE/数据/测试数据.xlsx')"
      ],
      "execution_count": null,
      "outputs": []
    },
    {
      "cell_type": "markdown",
      "metadata": {
        "id": "0eoROCZEq_KT"
      },
      "source": [
        "## 2.设置Sheet名称"
      ]
    },
    {
      "cell_type": "code",
      "metadata": {
        "id": "ytIjcbxHrFNj"
      },
      "source": [
        "# 运行上面代码以后，导出到本地文件的Sheet名字将从原来的Sheet1变成测试文档。\n",
        "df.to_excel(excel_writer=r'/content/drive/MyDrive/BESTROE/数据/测试数据.xlsx',\n",
        "            sheet_name = \"测试文档\")"
      ],
      "execution_count": null,
      "outputs": []
    },
    {
      "cell_type": "markdown",
      "metadata": {
        "id": "OFw76jsmrPU3"
      },
      "source": [
        "## 3.设置索引\n",
        "\n",
        "- 上面导出文件中关于索引的参数都是默认的，也就是没有对索引做什么限制，但是我们可以看到index索引使用的是从0开始的默认自然数索引\n",
        "\n",
        "- 这种索引是没有意义的，设置参数index=False就可以在导出时把这种索引去掉，具体实现如下所示。"
      ]
    },
    {
      "cell_type": "code",
      "metadata": {
        "id": "N3DejfSprXXj"
      },
      "source": [
        "df.to_excel(excel_writer=r'/content/drive/MyDrive/BESTROE/数据/测试数据.xlsx',\n",
        "            sheet_name = \"测试文档\", index = False)"
      ],
      "execution_count": null,
      "outputs": []
    },
    {
      "cell_type": "markdown",
      "metadata": {
        "id": "HUGVMddjrdg8"
      },
      "source": [
        "## 4.设置要导出的列\n",
        "\n",
        "- 有的时候一个表的列数很多，我们并不需要把所有的列都导出，这个时候可以通过设置columns参数来指定要导出的列，这和导入时设置只导入部分列的原理类似"
      ]
    },
    {
      "cell_type": "code",
      "metadata": {
        "id": "MFW8cfuzrn_c"
      },
      "source": [
        "df.to_excel(excel_writer=r'/content/drive/MyDrive/BESTROE/数据/测试数据.xlsx',\n",
        "            sheet_name = \"测试文档\", index = False,\n",
        "            columns = ['用户ID','客户分类','省会'])"
      ],
      "execution_count": null,
      "outputs": []
    },
    {
      "cell_type": "markdown",
      "metadata": {
        "id": "QohoWFrQsFPi"
      },
      "source": [
        "## 5.设置编码格式\n",
        "\n",
        "- 我们在导入文件时需要设置编码格式，导出文件的时候同样也需要\n",
        "- 修改编码格式的参数与导入文件时的一致，也使用的encoding,encoding参数值一般选择\"utf-8\"。"
      ]
    },
    {
      "cell_type": "code",
      "metadata": {
        "id": "qgVF08QJtCID"
      },
      "source": [
        "df.to_excel(excel_writer=r'/content/drive/MyDrive/BESTROE/数据/测试数据.xlsx',\n",
        "            sheet_name = \"测试文档\", \n",
        "            index = False,\n",
        "            columns = ['用户ID','客户分类','省会'],\n",
        "            encoding = 'utf-8')"
      ],
      "execution_count": null,
      "outputs": []
    },
    {
      "cell_type": "markdown",
      "metadata": {
        "id": "G6yhR0WY2Y4B"
      },
      "source": [
        "## 6.缺失值处理\n",
        "\n",
        "- 虽然我们在前面的数据预处理过程中已经处理了缺失值\n",
        "- 但是在数据分析过程中也可能会产生一些缺失值，如果在导出的时候，数据表中有缺失值，那么就要对表中的缺失值进行填充\n",
        "- 使用的参数为na_rep"
      ]
    },
    {
      "cell_type": "code",
      "metadata": {
        "id": "cpC4-X3v2iEO"
      },
      "source": [
        "df.to_excel(excel_writer=r'/content/drive/MyDrive/BESTROE/数据/测试数据.xlsx',\n",
        "            sheet_name = \"测试文档\", \n",
        "            index = False,\n",
        "            columns = ['用户ID','客户分类','省会'],\n",
        "            encoding = 'utf-8',\n",
        "            na_rep = 0) #缺失值填充为0"
      ],
      "execution_count": null,
      "outputs": []
    },
    {
      "cell_type": "markdown",
      "metadata": {
        "id": "OB760J-l2u_X"
      },
      "source": [
        "## 7.无穷值处理\n",
        "- 无穷值（inf）与缺失值（Nan）都是异常数据\n",
        "- 当你用一个浮点数除以0时，就会得到一个无穷值，无穷值的存在会导致接下来的计算报错，所以需要对无穷值进行处理。\n",
        "- 要把inf值替换掉，就要设置参数inf_rep的值。"
      ]
    },
    {
      "cell_type": "code",
      "metadata": {
        "id": "uawvnIAW292X"
      },
      "source": [
        "df.to_excel(excel_writer=r'/content/drive/MyDrive/BESTROE/数据/测试数据.xlsx',\n",
        "            sheet_name = \"测试文档\", \n",
        "            index = False,\n",
        "            columns = ['用户ID','客户分类','省会'],\n",
        "            encoding = 'utf-8',\n",
        "            na_rep = 0,\n",
        "            inf_rep = 0) #缺失值填充为0, 无穷值填充为0"
      ],
      "execution_count": null,
      "outputs": []
    },
    {
      "cell_type": "markdown",
      "metadata": {
        "id": "TTBep15mpF4W"
      },
      "source": [
        "# 导出为.csv\n",
        "\n",
        "- 在Excel中要将文件保存为.csv格式，直接将文件另存为，在另存为时有两种.csv文件可选，这两种文件虽然后缀均为.csv\n",
        "\n",
        "- 但是编码方式不同，CSV UTF-8(逗号分隔)(*.csv)采用的编码格式是 UTF-8\n",
        "\n",
        "- CSV(逗号分隔)(*.csv)采用的编码格式是 gbk 编码\n",
        "\n",
        "- 在Python中，将文件导出为.csv文件使用的是to_csv方法"
      ]
    },
    {
      "cell_type": "markdown",
      "metadata": {
        "id": "e-PbGs283cKG"
      },
      "source": [
        "## 1.设置文件的导出路径\n",
        "\n",
        "- 设置.csv 文件的导出路径时，与设置.xlsx 文件的导出路径一样，\n",
        "- 但是参数不一样，.csv文件的导出路径需通过**path_or_buf**参数来设置。"
      ]
    },
    {
      "cell_type": "code",
      "metadata": {
        "id": "t8rqgrnk3hke"
      },
      "source": [
        "df.to_csv(path_or_buf=r'/content/drive/MyDrive/BESTROE/数据/测试数据.csv')"
      ],
      "execution_count": null,
      "outputs": []
    },
    {
      "cell_type": "markdown",
      "metadata": {
        "id": "DPwAg5l63wu5"
      },
      "source": [
        "## 2.设置索引\n",
        "\n",
        "- 导出.csv 文件时与导出.xlsx 文件时对索引的设置是一致的，可以通过设置 index参数，让从0开始的默认自然数索引不展示出来。"
      ]
    },
    {
      "cell_type": "code",
      "metadata": {
        "id": "zXXcVJ0y33zL"
      },
      "source": [
        "df.to_csv(path_or_buf=r'/content/drive/MyDrive/BESTROE/数据/测试数据.csv', index=False)"
      ],
      "execution_count": null,
      "outputs": []
    },
    {
      "cell_type": "markdown",
      "metadata": {
        "id": "t2RGQbKS38aj"
      },
      "source": [
        "## 3.设置要导出的列\n",
        "\n",
        "导出.csv文件时也可以设置要导出哪些列，用的参数同样是columns\n"
      ]
    },
    {
      "cell_type": "code",
      "metadata": {
        "id": "v-A7T4Ej4EeM"
      },
      "source": [
        "df.to_csv(path_or_buf=r'/content/drive/MyDrive/BESTROE/数据/测试数据.csv', \n",
        "          index=False,\n",
        "          columns = ['用户ID','客户分类','省会'])"
      ],
      "execution_count": null,
      "outputs": []
    },
    {
      "cell_type": "markdown",
      "metadata": {
        "id": "ta86dOWo4LpC"
      },
      "source": [
        "## 4.设置分割符号\n",
        "\n",
        "- 分隔符号就是用来指明导出文件中的字符之间是用什么来分隔的，\n",
        "\n",
        "- 默认使用逗号分隔，常用的分隔符号还有空格、制表符、分号等。\n",
        "\n",
        "- 用参数sep来指明要用的分隔符号。\n"
      ]
    },
    {
      "cell_type": "code",
      "metadata": {
        "id": "rXREn3HH4UBU"
      },
      "source": [
        "df.to_csv(path_or_buf=r'/content/drive/MyDrive/BESTROE/数据/测试数据.csv', \n",
        "          index=False,\n",
        "          columns = ['用户ID','客户分类','省会'],\n",
        "          sep =\",\")"
      ],
      "execution_count": null,
      "outputs": []
    },
    {
      "cell_type": "markdown",
      "metadata": {
        "id": "LcIvsfcs4Z2q"
      },
      "source": [
        "## 5.缺失值处理\n",
        "\n",
        "- 导出.csv文件时用的缺失值处理方法与导出.xlsx文件时用的缺失值处理方法是一样的，也是通过参数na_rep来指明要用什么填充缺失值。"
      ]
    },
    {
      "cell_type": "code",
      "metadata": {
        "id": "KRUymAsk4eor"
      },
      "source": [
        "df.to_csv(path_or_buf=r'/content/drive/MyDrive/BESTROE/数据/测试数据.csv', \n",
        "          index=False,\n",
        "          columns = ['用户ID','客户分类','省会'],\n",
        "          sep =\",\",\n",
        "          na_rep = 0)"
      ],
      "execution_count": null,
      "outputs": []
    },
    {
      "cell_type": "markdown",
      "metadata": {
        "id": "xG1b5M0T4kiK"
      },
      "source": [
        "## 6.设置编码格式\n",
        "\n",
        "- 在Python 3中，导出为.csv文件时，默认编码为UTF-8\n",
        "\n",
        "- 如果使用默认的UTF-8编码格式，导出的文件在本地电脑打开以后中文会乱码\n",
        "- 所以一般使用'utf-8-sig'或者'gbk'编码。\n"
      ]
    },
    {
      "cell_type": "code",
      "metadata": {
        "id": "d4BKKPyq4tU7"
      },
      "source": [
        "df.to_csv(path_or_buf=r'/content/drive/MyDrive/BESTROE/数据/测试数据.csv', \n",
        "          index=False,\n",
        "          columns = ['用户ID','客户分类','省会'],\n",
        "          sep =\",\",\n",
        "          na_rep = 0,\n",
        "          encoding = 'utf-8-sig')"
      ],
      "execution_count": null,
      "outputs": []
    },
    {
      "cell_type": "markdown",
      "metadata": {
        "id": "yFaTjYpzpQCO"
      },
      "source": [
        "# 导出到多个Sheet\n",
        "\n",
        "- 有的时候一个脚本一次会生成多个文件，可以将多个文件分别导出成多个文件，也可以将多个文件放在一个文件的不同 Sheet 中\n",
        "\n",
        "- 这个时候要用 ExcelWriter()函数将多个文件分别导出到不同Sheet中"
      ]
    },
    {
      "cell_type": "code",
      "metadata": {
        "colab": {
          "base_uri": "https://localhost:8080/"
        },
        "id": "UydQft4t6yFY",
        "outputId": "b60d8369-40b0-4212-8a8f-4b29607f4deb"
      },
      "source": [
        "!pip install xlsxwriter"
      ],
      "execution_count": null,
      "outputs": [
        {
          "output_type": "stream",
          "name": "stdout",
          "text": [
            "Collecting xlsxwriter\n",
            "  Downloading XlsxWriter-3.0.1-py3-none-any.whl (148 kB)\n",
            "\u001b[?25l\r\u001b[K     |██▏                             | 10 kB 26.9 MB/s eta 0:00:01\r\u001b[K     |████▍                           | 20 kB 31.4 MB/s eta 0:00:01\r\u001b[K     |██████▋                         | 30 kB 37.0 MB/s eta 0:00:01\r\u001b[K     |████████▉                       | 40 kB 38.8 MB/s eta 0:00:01\r\u001b[K     |███████████                     | 51 kB 40.2 MB/s eta 0:00:01\r\u001b[K     |█████████████▏                  | 61 kB 42.5 MB/s eta 0:00:01\r\u001b[K     |███████████████▍                | 71 kB 31.5 MB/s eta 0:00:01\r\u001b[K     |█████████████████▋              | 81 kB 32.2 MB/s eta 0:00:01\r\u001b[K     |███████████████████▉            | 92 kB 31.5 MB/s eta 0:00:01\r\u001b[K     |██████████████████████          | 102 kB 33.2 MB/s eta 0:00:01\r\u001b[K     |████████████████████████▎       | 112 kB 33.2 MB/s eta 0:00:01\r\u001b[K     |██████████████████████████▍     | 122 kB 33.2 MB/s eta 0:00:01\r\u001b[K     |████████████████████████████▋   | 133 kB 33.2 MB/s eta 0:00:01\r\u001b[K     |██████████████████████████████▉ | 143 kB 33.2 MB/s eta 0:00:01\r\u001b[K     |████████████████████████████████| 148 kB 33.2 MB/s \n",
            "\u001b[?25hInstalling collected packages: xlsxwriter\n",
            "Successfully installed xlsxwriter-3.0.1\n"
          ]
        }
      ]
    },
    {
      "cell_type": "code",
      "metadata": {
        "id": "nsYclR5S5baE"
      },
      "source": [
        "import xlsxwriter\n",
        "# 声明一个读写对象\n",
        "# excelpath为文件要存放的路径\n",
        "excelpath = '/content/drive/MyDrive/BESTROE/数据/多sheet.xlsx'\n",
        "writer = pd.ExcelWriter(excelpath, engine = 'xlsxwriter')\n",
        "\n",
        "# 分别将表df, df, df写入Excel中的sheet1,sheet2,sheet3\n",
        "# 并命名为表1，表2，表3\n",
        "\n",
        "df.to_excel(writer, sheet_name = '表1',\n",
        "            index = False,\n",
        "            na_rep = 0,\n",
        "            inf_rep = 0)\n",
        "df.to_excel(writer, sheet_name = '表2')\n",
        "df.to_excel(writer, sheet_name = '表3')\n",
        "\n",
        "# 保存读写的内容\n",
        "\n",
        "writer.save()"
      ],
      "execution_count": null,
      "outputs": []
    }
  ]
}