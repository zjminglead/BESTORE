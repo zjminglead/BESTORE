{
  "nbformat": 4,
  "nbformat_minor": 0,
  "metadata": {
    "colab": {
      "name": "table_merge.ipynb",
      "provenance": [],
      "collapsed_sections": [],
      "authorship_tag": "ABX9TyN37VT56YQZrSS+xCi7D+dr",
      "include_colab_link": true
    },
    "kernelspec": {
      "name": "python3",
      "display_name": "Python 3"
    },
    "language_info": {
      "name": "python"
    }
  },
  "cells": [
    {
      "cell_type": "markdown",
      "metadata": {
        "id": "view-in-github",
        "colab_type": "text"
      },
      "source": [
        "<a href=\"https://colab.research.google.com/github/zjminglead/BESTORE/blob/master/table_merge.ipynb\" target=\"_parent\"><img src=\"https://colab.research.google.com/assets/colab-badge.svg\" alt=\"Open In Colab\"/></a>"
      ]
    },
    {
      "cell_type": "code",
      "metadata": {
        "colab": {
          "base_uri": "https://localhost:8080/"
        },
        "id": "q_TqqH7h6EVE",
        "outputId": "2066a575-d1d2-46a0-8762-20654b0be5c1"
      },
      "source": [
        "from google.colab import drive\n",
        "drive.mount('/content/drive/')\n",
        "!pwd"
      ],
      "execution_count": 1,
      "outputs": [
        {
          "output_type": "stream",
          "name": "stdout",
          "text": [
            "Mounted at /content/drive/\n",
            "/content\n"
          ]
        }
      ]
    },
    {
      "cell_type": "markdown",
      "metadata": {
        "id": "msZmT3cF6fj-"
      },
      "source": [
        "# 多表拼接"
      ]
    },
    {
      "cell_type": "markdown",
      "metadata": {
        "id": "EMg7FBKX6mWx"
      },
      "source": [
        "#表的横向拼接\n",
        "- 表的横向拼接就是在横向将两个表依据公共列拼接在一起。\n",
        "\n",
        "- 在Excel中实现横向拼接利用的是vlookup()函数，关于vlookup()函数。\n",
        "\n",
        "- 在 Python 中实现横向拼接利用的 merge()方法"
      ]
    },
    {
      "cell_type": "markdown",
      "metadata": {
        "id": "VXpjSz9e63gv"
      },
      "source": [
        "## 1.连接表的类型\n",
        "**待连接的两个表都是什么类型**\n",
        "\n",
        "- 一对一：待连接的两个表的公共列是一对一的\n",
        "\n",
        "- 多对一\n",
        "\n",
        "- 多对多"
      ]
    },
    {
      "cell_type": "markdown",
      "metadata": {
        "id": "-zqxYOw27JPO"
      },
      "source": [
        "### 一对一表连接\n",
        "\n",
        "- 如果要将下方df1和df2这两个表进行连接，那么直接使用pd.merge()方法即可，该方法会自动寻找两个表中的公共列，并将找到的公共列作为连接列，上面例子中表 df1和 df2的公共列为学号，且学号是一对一的，两个表运行 pd.merge()方法"
      ]
    },
    {
      "cell_type": "code",
      "metadata": {
        "colab": {
          "base_uri": "https://localhost:8080/"
        },
        "id": "mMO5mKoe6yIa",
        "outputId": "25a11b70-e612-431b-85a6-334254c007b7"
      },
      "source": [
        "import pandas as pd\n",
        "df1 = pd.DataFrame([[1,\"小张\",100,650],\n",
        "           [2,\"小工\",101,600],\n",
        "           [3,\"小李\",102,578],[4,\"小赵\",103,550]],\n",
        "           columns = [\"名次\",\"姓名\",\"学号\",\"成绩\"])\n",
        "print(df1.tail())\n",
        "df2 = pd.DataFrame([[100,\"一班\"],                    \n",
        "           [101,\"二班\"],\n",
        "           [102,\"三班\"],[103,\"四班\"]],\n",
        "           columns = [\"学号\",\"班级\"])\n",
        "print(df2.tail())"
      ],
      "execution_count": 10,
      "outputs": [
        {
          "output_type": "stream",
          "name": "stdout",
          "text": [
            "   名次  姓名   学号   成绩\n",
            "0   1  小张  100  650\n",
            "1   2  小工  101  600\n",
            "2   3  小李  102  578\n",
            "3   4  小赵  103  550\n",
            "    学号  班级\n",
            "0  100  一班\n",
            "1  101  二班\n",
            "2  102  三班\n",
            "3  103  四班\n"
          ]
        }
      ]
    },
    {
      "cell_type": "code",
      "metadata": {
        "colab": {
          "base_uri": "https://localhost:8080/",
          "height": 175
        },
        "id": "NlFO407K9r-U",
        "outputId": "c9b946b8-d836-4b3e-c726-ba26f8fe9f3d"
      },
      "source": [
        "pd.merge(df1,df2)"
      ],
      "execution_count": 11,
      "outputs": [
        {
          "output_type": "execute_result",
          "data": {
            "text/html": [
              "<div>\n",
              "<style scoped>\n",
              "    .dataframe tbody tr th:only-of-type {\n",
              "        vertical-align: middle;\n",
              "    }\n",
              "\n",
              "    .dataframe tbody tr th {\n",
              "        vertical-align: top;\n",
              "    }\n",
              "\n",
              "    .dataframe thead th {\n",
              "        text-align: right;\n",
              "    }\n",
              "</style>\n",
              "<table border=\"1\" class=\"dataframe\">\n",
              "  <thead>\n",
              "    <tr style=\"text-align: right;\">\n",
              "      <th></th>\n",
              "      <th>名次</th>\n",
              "      <th>姓名</th>\n",
              "      <th>学号</th>\n",
              "      <th>成绩</th>\n",
              "      <th>班级</th>\n",
              "    </tr>\n",
              "  </thead>\n",
              "  <tbody>\n",
              "    <tr>\n",
              "      <th>0</th>\n",
              "      <td>1</td>\n",
              "      <td>小张</td>\n",
              "      <td>100</td>\n",
              "      <td>650</td>\n",
              "      <td>一班</td>\n",
              "    </tr>\n",
              "    <tr>\n",
              "      <th>1</th>\n",
              "      <td>2</td>\n",
              "      <td>小工</td>\n",
              "      <td>101</td>\n",
              "      <td>600</td>\n",
              "      <td>二班</td>\n",
              "    </tr>\n",
              "    <tr>\n",
              "      <th>2</th>\n",
              "      <td>3</td>\n",
              "      <td>小李</td>\n",
              "      <td>102</td>\n",
              "      <td>578</td>\n",
              "      <td>三班</td>\n",
              "    </tr>\n",
              "    <tr>\n",
              "      <th>3</th>\n",
              "      <td>4</td>\n",
              "      <td>小赵</td>\n",
              "      <td>103</td>\n",
              "      <td>550</td>\n",
              "      <td>四班</td>\n",
              "    </tr>\n",
              "  </tbody>\n",
              "</table>\n",
              "</div>"
            ],
            "text/plain": [
              "   名次  姓名   学号   成绩  班级\n",
              "0   1  小张  100  650  一班\n",
              "1   2  小工  101  600  二班\n",
              "2   3  小李  102  578  三班\n",
              "3   4  小赵  103  550  四班"
            ]
          },
          "metadata": {},
          "execution_count": 11
        }
      ]
    },
    {
      "cell_type": "markdown",
      "metadata": {
        "id": "3LG51UeL91ts"
      },
      "source": [
        "### 多对一表连接\n",
        "\n",
        "- 多对一就是待连接的两个表的公共列不是一对一的，其中一个表的公共列有重复值，另一个表的公共列是唯一的。\n",
        "\n",
        "- 如下图对比df3和df1：由于这两个表是多对一关系，df1中的学号是唯一的，但是 df3中的学号不是唯一的，因此拼接结果就是保留df3中的重复值，且在df1中也增加重复值\n",
        "\n"
      ]
    },
    {
      "cell_type": "code",
      "metadata": {
        "colab": {
          "base_uri": "https://localhost:8080/",
          "height": 205
        },
        "id": "iTRHOgOy-BUZ",
        "outputId": "52d8539f-7b54-4513-8d94-af3f6e31987e"
      },
      "source": [
        "df3 = pd.DataFrame([[100,\"张三\"],                    \n",
        "           [100,\"李四\"],\n",
        "           [102,\"王五\"],\n",
        "           [103,\"周健\"],\n",
        "           [101,\"周健\"]],\n",
        "           columns = [\"学号\",\"父母\"])\n",
        "df3"
      ],
      "execution_count": 20,
      "outputs": [
        {
          "output_type": "execute_result",
          "data": {
            "text/html": [
              "<div>\n",
              "<style scoped>\n",
              "    .dataframe tbody tr th:only-of-type {\n",
              "        vertical-align: middle;\n",
              "    }\n",
              "\n",
              "    .dataframe tbody tr th {\n",
              "        vertical-align: top;\n",
              "    }\n",
              "\n",
              "    .dataframe thead th {\n",
              "        text-align: right;\n",
              "    }\n",
              "</style>\n",
              "<table border=\"1\" class=\"dataframe\">\n",
              "  <thead>\n",
              "    <tr style=\"text-align: right;\">\n",
              "      <th></th>\n",
              "      <th>学号</th>\n",
              "      <th>父母</th>\n",
              "    </tr>\n",
              "  </thead>\n",
              "  <tbody>\n",
              "    <tr>\n",
              "      <th>0</th>\n",
              "      <td>100</td>\n",
              "      <td>张三</td>\n",
              "    </tr>\n",
              "    <tr>\n",
              "      <th>1</th>\n",
              "      <td>100</td>\n",
              "      <td>李四</td>\n",
              "    </tr>\n",
              "    <tr>\n",
              "      <th>2</th>\n",
              "      <td>102</td>\n",
              "      <td>王五</td>\n",
              "    </tr>\n",
              "    <tr>\n",
              "      <th>3</th>\n",
              "      <td>103</td>\n",
              "      <td>周健</td>\n",
              "    </tr>\n",
              "    <tr>\n",
              "      <th>4</th>\n",
              "      <td>101</td>\n",
              "      <td>周健</td>\n",
              "    </tr>\n",
              "  </tbody>\n",
              "</table>\n",
              "</div>"
            ],
            "text/plain": [
              "    学号  父母\n",
              "0  100  张三\n",
              "1  100  李四\n",
              "2  102  王五\n",
              "3  103  周健\n",
              "4  101  周健"
            ]
          },
          "metadata": {},
          "execution_count": 20
        }
      ]
    },
    {
      "cell_type": "code",
      "metadata": {
        "colab": {
          "base_uri": "https://localhost:8080/",
          "height": 205
        },
        "id": "FbulNoyz-9qA",
        "outputId": "1ae13c67-98dc-4803-c30d-8c87f1d1a8a7"
      },
      "source": [
        "pd.merge(df1, df3, on = \"学号\")"
      ],
      "execution_count": 21,
      "outputs": [
        {
          "output_type": "execute_result",
          "data": {
            "text/html": [
              "<div>\n",
              "<style scoped>\n",
              "    .dataframe tbody tr th:only-of-type {\n",
              "        vertical-align: middle;\n",
              "    }\n",
              "\n",
              "    .dataframe tbody tr th {\n",
              "        vertical-align: top;\n",
              "    }\n",
              "\n",
              "    .dataframe thead th {\n",
              "        text-align: right;\n",
              "    }\n",
              "</style>\n",
              "<table border=\"1\" class=\"dataframe\">\n",
              "  <thead>\n",
              "    <tr style=\"text-align: right;\">\n",
              "      <th></th>\n",
              "      <th>名次</th>\n",
              "      <th>姓名</th>\n",
              "      <th>学号</th>\n",
              "      <th>成绩</th>\n",
              "      <th>父母</th>\n",
              "    </tr>\n",
              "  </thead>\n",
              "  <tbody>\n",
              "    <tr>\n",
              "      <th>0</th>\n",
              "      <td>1</td>\n",
              "      <td>小张</td>\n",
              "      <td>100</td>\n",
              "      <td>650</td>\n",
              "      <td>张三</td>\n",
              "    </tr>\n",
              "    <tr>\n",
              "      <th>1</th>\n",
              "      <td>1</td>\n",
              "      <td>小张</td>\n",
              "      <td>100</td>\n",
              "      <td>650</td>\n",
              "      <td>李四</td>\n",
              "    </tr>\n",
              "    <tr>\n",
              "      <th>2</th>\n",
              "      <td>2</td>\n",
              "      <td>小工</td>\n",
              "      <td>101</td>\n",
              "      <td>600</td>\n",
              "      <td>周健</td>\n",
              "    </tr>\n",
              "    <tr>\n",
              "      <th>3</th>\n",
              "      <td>3</td>\n",
              "      <td>小李</td>\n",
              "      <td>102</td>\n",
              "      <td>578</td>\n",
              "      <td>王五</td>\n",
              "    </tr>\n",
              "    <tr>\n",
              "      <th>4</th>\n",
              "      <td>4</td>\n",
              "      <td>小赵</td>\n",
              "      <td>103</td>\n",
              "      <td>550</td>\n",
              "      <td>周健</td>\n",
              "    </tr>\n",
              "  </tbody>\n",
              "</table>\n",
              "</div>"
            ],
            "text/plain": [
              "   名次  姓名   学号   成绩  父母\n",
              "0   1  小张  100  650  张三\n",
              "1   1  小张  100  650  李四\n",
              "2   2  小工  101  600  周健\n",
              "3   3  小李  102  578  王五\n",
              "4   4  小赵  103  550  周健"
            ]
          },
          "metadata": {},
          "execution_count": 21
        }
      ]
    },
    {
      "cell_type": "markdown",
      "metadata": {
        "id": "5KqjG267_erQ"
      },
      "source": [
        "我们把df3中的学号去掉一个101，我们最终得到的结果是指定公共列中的共同值"
      ]
    },
    {
      "cell_type": "code",
      "metadata": {
        "colab": {
          "base_uri": "https://localhost:8080/",
          "height": 175
        },
        "id": "gGos-eBh_qLc",
        "outputId": "093e9fdf-b66a-4b4c-d017-47ddedccdb2a"
      },
      "source": [
        "df4 = pd.DataFrame([[100,\"张三\"],                    \n",
        "           [100,\"李四\"],\n",
        "           [102,\"王五\"],\n",
        "           [103,\"周健\"]],\n",
        "           columns = [\"学号\",\"父母\"])\n",
        "df4"
      ],
      "execution_count": 22,
      "outputs": [
        {
          "output_type": "execute_result",
          "data": {
            "text/html": [
              "<div>\n",
              "<style scoped>\n",
              "    .dataframe tbody tr th:only-of-type {\n",
              "        vertical-align: middle;\n",
              "    }\n",
              "\n",
              "    .dataframe tbody tr th {\n",
              "        vertical-align: top;\n",
              "    }\n",
              "\n",
              "    .dataframe thead th {\n",
              "        text-align: right;\n",
              "    }\n",
              "</style>\n",
              "<table border=\"1\" class=\"dataframe\">\n",
              "  <thead>\n",
              "    <tr style=\"text-align: right;\">\n",
              "      <th></th>\n",
              "      <th>学号</th>\n",
              "      <th>父母</th>\n",
              "    </tr>\n",
              "  </thead>\n",
              "  <tbody>\n",
              "    <tr>\n",
              "      <th>0</th>\n",
              "      <td>100</td>\n",
              "      <td>张三</td>\n",
              "    </tr>\n",
              "    <tr>\n",
              "      <th>1</th>\n",
              "      <td>100</td>\n",
              "      <td>李四</td>\n",
              "    </tr>\n",
              "    <tr>\n",
              "      <th>2</th>\n",
              "      <td>102</td>\n",
              "      <td>王五</td>\n",
              "    </tr>\n",
              "    <tr>\n",
              "      <th>3</th>\n",
              "      <td>103</td>\n",
              "      <td>周健</td>\n",
              "    </tr>\n",
              "  </tbody>\n",
              "</table>\n",
              "</div>"
            ],
            "text/plain": [
              "    学号  父母\n",
              "0  100  张三\n",
              "1  100  李四\n",
              "2  102  王五\n",
              "3  103  周健"
            ]
          },
          "metadata": {},
          "execution_count": 22
        }
      ]
    },
    {
      "cell_type": "code",
      "metadata": {
        "colab": {
          "base_uri": "https://localhost:8080/",
          "height": 175
        },
        "id": "fwsozEdU_wFW",
        "outputId": "b56923fa-26aa-41a6-e185-c69b42f9c46a"
      },
      "source": [
        "pd.merge(df1, df4, on = \"学号\")"
      ],
      "execution_count": 23,
      "outputs": [
        {
          "output_type": "execute_result",
          "data": {
            "text/html": [
              "<div>\n",
              "<style scoped>\n",
              "    .dataframe tbody tr th:only-of-type {\n",
              "        vertical-align: middle;\n",
              "    }\n",
              "\n",
              "    .dataframe tbody tr th {\n",
              "        vertical-align: top;\n",
              "    }\n",
              "\n",
              "    .dataframe thead th {\n",
              "        text-align: right;\n",
              "    }\n",
              "</style>\n",
              "<table border=\"1\" class=\"dataframe\">\n",
              "  <thead>\n",
              "    <tr style=\"text-align: right;\">\n",
              "      <th></th>\n",
              "      <th>名次</th>\n",
              "      <th>姓名</th>\n",
              "      <th>学号</th>\n",
              "      <th>成绩</th>\n",
              "      <th>父母</th>\n",
              "    </tr>\n",
              "  </thead>\n",
              "  <tbody>\n",
              "    <tr>\n",
              "      <th>0</th>\n",
              "      <td>1</td>\n",
              "      <td>小张</td>\n",
              "      <td>100</td>\n",
              "      <td>650</td>\n",
              "      <td>张三</td>\n",
              "    </tr>\n",
              "    <tr>\n",
              "      <th>1</th>\n",
              "      <td>1</td>\n",
              "      <td>小张</td>\n",
              "      <td>100</td>\n",
              "      <td>650</td>\n",
              "      <td>李四</td>\n",
              "    </tr>\n",
              "    <tr>\n",
              "      <th>2</th>\n",
              "      <td>3</td>\n",
              "      <td>小李</td>\n",
              "      <td>102</td>\n",
              "      <td>578</td>\n",
              "      <td>王五</td>\n",
              "    </tr>\n",
              "    <tr>\n",
              "      <th>3</th>\n",
              "      <td>4</td>\n",
              "      <td>小赵</td>\n",
              "      <td>103</td>\n",
              "      <td>550</td>\n",
              "      <td>周健</td>\n",
              "    </tr>\n",
              "  </tbody>\n",
              "</table>\n",
              "</div>"
            ],
            "text/plain": [
              "   名次  姓名   学号   成绩  父母\n",
              "0   1  小张  100  650  张三\n",
              "1   1  小张  100  650  李四\n",
              "2   3  小李  102  578  王五\n",
              "3   4  小赵  103  550  周健"
            ]
          },
          "metadata": {},
          "execution_count": 23
        }
      ]
    },
    {
      "cell_type": "markdown",
      "metadata": {
        "id": "kn8nukOC_zFl"
      },
      "source": [
        "### 多对多\n",
        "\n",
        "- 多对多就是待连接的两个表的公共列不是一对一的，且两个表中的公共列都有重复值\n",
        "- 多对多连接相当于多个多对一连接"
      ]
    },
    {
      "cell_type": "code",
      "metadata": {
        "colab": {
          "base_uri": "https://localhost:8080/",
          "height": 205
        },
        "id": "hhXWywncABB8",
        "outputId": "47e4c53d-3a99-48c3-e450-2169cc52be9d"
      },
      "source": [
        "df5 = pd.DataFrame([[1,\"小张\",100,650],\n",
        "           [2,\"小工\",101,600],\n",
        "           [3,\"小李\",102,578],\n",
        "           [4,\"小赵\",103,550],\n",
        "           [5,\"小赵\",102,550]],\n",
        "           columns = [\"名次\",\"姓名\",\"学号\",\"成绩\"])\n",
        "df5"
      ],
      "execution_count": 25,
      "outputs": [
        {
          "output_type": "execute_result",
          "data": {
            "text/html": [
              "<div>\n",
              "<style scoped>\n",
              "    .dataframe tbody tr th:only-of-type {\n",
              "        vertical-align: middle;\n",
              "    }\n",
              "\n",
              "    .dataframe tbody tr th {\n",
              "        vertical-align: top;\n",
              "    }\n",
              "\n",
              "    .dataframe thead th {\n",
              "        text-align: right;\n",
              "    }\n",
              "</style>\n",
              "<table border=\"1\" class=\"dataframe\">\n",
              "  <thead>\n",
              "    <tr style=\"text-align: right;\">\n",
              "      <th></th>\n",
              "      <th>名次</th>\n",
              "      <th>姓名</th>\n",
              "      <th>学号</th>\n",
              "      <th>成绩</th>\n",
              "    </tr>\n",
              "  </thead>\n",
              "  <tbody>\n",
              "    <tr>\n",
              "      <th>0</th>\n",
              "      <td>1</td>\n",
              "      <td>小张</td>\n",
              "      <td>100</td>\n",
              "      <td>650</td>\n",
              "    </tr>\n",
              "    <tr>\n",
              "      <th>1</th>\n",
              "      <td>2</td>\n",
              "      <td>小工</td>\n",
              "      <td>101</td>\n",
              "      <td>600</td>\n",
              "    </tr>\n",
              "    <tr>\n",
              "      <th>2</th>\n",
              "      <td>3</td>\n",
              "      <td>小李</td>\n",
              "      <td>102</td>\n",
              "      <td>578</td>\n",
              "    </tr>\n",
              "    <tr>\n",
              "      <th>3</th>\n",
              "      <td>4</td>\n",
              "      <td>小赵</td>\n",
              "      <td>103</td>\n",
              "      <td>550</td>\n",
              "    </tr>\n",
              "    <tr>\n",
              "      <th>4</th>\n",
              "      <td>5</td>\n",
              "      <td>小赵</td>\n",
              "      <td>102</td>\n",
              "      <td>550</td>\n",
              "    </tr>\n",
              "  </tbody>\n",
              "</table>\n",
              "</div>"
            ],
            "text/plain": [
              "   名次  姓名   学号   成绩\n",
              "0   1  小张  100  650\n",
              "1   2  小工  101  600\n",
              "2   3  小李  102  578\n",
              "3   4  小赵  103  550\n",
              "4   5  小赵  102  550"
            ]
          },
          "metadata": {},
          "execution_count": 25
        }
      ]
    },
    {
      "cell_type": "code",
      "metadata": {
        "colab": {
          "base_uri": "https://localhost:8080/",
          "height": 205
        },
        "id": "n828juUNAg7N",
        "outputId": "e79bc080-28c6-4adf-b3bb-b61788bf3a80"
      },
      "source": [
        "df3"
      ],
      "execution_count": 26,
      "outputs": [
        {
          "output_type": "execute_result",
          "data": {
            "text/html": [
              "<div>\n",
              "<style scoped>\n",
              "    .dataframe tbody tr th:only-of-type {\n",
              "        vertical-align: middle;\n",
              "    }\n",
              "\n",
              "    .dataframe tbody tr th {\n",
              "        vertical-align: top;\n",
              "    }\n",
              "\n",
              "    .dataframe thead th {\n",
              "        text-align: right;\n",
              "    }\n",
              "</style>\n",
              "<table border=\"1\" class=\"dataframe\">\n",
              "  <thead>\n",
              "    <tr style=\"text-align: right;\">\n",
              "      <th></th>\n",
              "      <th>学号</th>\n",
              "      <th>父母</th>\n",
              "    </tr>\n",
              "  </thead>\n",
              "  <tbody>\n",
              "    <tr>\n",
              "      <th>0</th>\n",
              "      <td>100</td>\n",
              "      <td>张三</td>\n",
              "    </tr>\n",
              "    <tr>\n",
              "      <th>1</th>\n",
              "      <td>100</td>\n",
              "      <td>李四</td>\n",
              "    </tr>\n",
              "    <tr>\n",
              "      <th>2</th>\n",
              "      <td>102</td>\n",
              "      <td>王五</td>\n",
              "    </tr>\n",
              "    <tr>\n",
              "      <th>3</th>\n",
              "      <td>103</td>\n",
              "      <td>周健</td>\n",
              "    </tr>\n",
              "    <tr>\n",
              "      <th>4</th>\n",
              "      <td>101</td>\n",
              "      <td>周健</td>\n",
              "    </tr>\n",
              "  </tbody>\n",
              "</table>\n",
              "</div>"
            ],
            "text/plain": [
              "    学号  父母\n",
              "0  100  张三\n",
              "1  100  李四\n",
              "2  102  王五\n",
              "3  103  周健\n",
              "4  101  周健"
            ]
          },
          "metadata": {},
          "execution_count": 26
        }
      ]
    },
    {
      "cell_type": "markdown",
      "metadata": {
        "id": "RHtC_qORAS_z"
      },
      "source": [
        "将df5与df3进行拼接"
      ]
    },
    {
      "cell_type": "code",
      "metadata": {
        "colab": {
          "base_uri": "https://localhost:8080/",
          "height": 236
        },
        "id": "_Z0J1kqbAYbo",
        "outputId": "18a0f89e-b406-40f7-b28c-421f9c0925ca"
      },
      "source": [
        "pd.merge(df5, df3)"
      ],
      "execution_count": 27,
      "outputs": [
        {
          "output_type": "execute_result",
          "data": {
            "text/html": [
              "<div>\n",
              "<style scoped>\n",
              "    .dataframe tbody tr th:only-of-type {\n",
              "        vertical-align: middle;\n",
              "    }\n",
              "\n",
              "    .dataframe tbody tr th {\n",
              "        vertical-align: top;\n",
              "    }\n",
              "\n",
              "    .dataframe thead th {\n",
              "        text-align: right;\n",
              "    }\n",
              "</style>\n",
              "<table border=\"1\" class=\"dataframe\">\n",
              "  <thead>\n",
              "    <tr style=\"text-align: right;\">\n",
              "      <th></th>\n",
              "      <th>名次</th>\n",
              "      <th>姓名</th>\n",
              "      <th>学号</th>\n",
              "      <th>成绩</th>\n",
              "      <th>父母</th>\n",
              "    </tr>\n",
              "  </thead>\n",
              "  <tbody>\n",
              "    <tr>\n",
              "      <th>0</th>\n",
              "      <td>1</td>\n",
              "      <td>小张</td>\n",
              "      <td>100</td>\n",
              "      <td>650</td>\n",
              "      <td>张三</td>\n",
              "    </tr>\n",
              "    <tr>\n",
              "      <th>1</th>\n",
              "      <td>1</td>\n",
              "      <td>小张</td>\n",
              "      <td>100</td>\n",
              "      <td>650</td>\n",
              "      <td>李四</td>\n",
              "    </tr>\n",
              "    <tr>\n",
              "      <th>2</th>\n",
              "      <td>2</td>\n",
              "      <td>小工</td>\n",
              "      <td>101</td>\n",
              "      <td>600</td>\n",
              "      <td>周健</td>\n",
              "    </tr>\n",
              "    <tr>\n",
              "      <th>3</th>\n",
              "      <td>3</td>\n",
              "      <td>小李</td>\n",
              "      <td>102</td>\n",
              "      <td>578</td>\n",
              "      <td>王五</td>\n",
              "    </tr>\n",
              "    <tr>\n",
              "      <th>4</th>\n",
              "      <td>5</td>\n",
              "      <td>小赵</td>\n",
              "      <td>102</td>\n",
              "      <td>550</td>\n",
              "      <td>王五</td>\n",
              "    </tr>\n",
              "    <tr>\n",
              "      <th>5</th>\n",
              "      <td>4</td>\n",
              "      <td>小赵</td>\n",
              "      <td>103</td>\n",
              "      <td>550</td>\n",
              "      <td>周健</td>\n",
              "    </tr>\n",
              "  </tbody>\n",
              "</table>\n",
              "</div>"
            ],
            "text/plain": [
              "   名次  姓名   学号   成绩  父母\n",
              "0   1  小张  100  650  张三\n",
              "1   1  小张  100  650  李四\n",
              "2   2  小工  101  600  周健\n",
              "3   3  小李  102  578  王五\n",
              "4   5  小赵  102  550  王五\n",
              "5   4  小赵  103  550  周健"
            ]
          },
          "metadata": {},
          "execution_count": 27
        }
      ]
    },
    {
      "cell_type": "markdown",
      "metadata": {
        "id": "JNieoIckAtem"
      },
      "source": [
        "## 2.连接键的类型"
      ]
    },
    {
      "cell_type": "markdown",
      "metadata": {
        "id": "jvqy5otgBA2O"
      },
      "source": [
        "### 默认以公共列作为连接键\n",
        "\n",
        "- 如果事先没有指定要按哪个列进行拼接时，pd.merge()方法会默认寻找两个表中的公共列，然后以这个公共列作为连接键进行连接\n",
        "\n",
        "- 以上例子就有很好的说明"
      ]
    },
    {
      "cell_type": "markdown",
      "metadata": {
        "id": "rx9TNDavBLkt"
      },
      "source": [
        "### 用on来指定连接键\n",
        "\n",
        "- 也可以用参数on来指定连接键，参数on一般指定的也是两个表中的公共列\n",
        "- 其实这个时候和使用默认公共列达到的效果是一样的。"
      ]
    },
    {
      "cell_type": "markdown",
      "metadata": {
        "id": "MNo8ltW6BYvL"
      },
      "source": [
        "### 指定多个公共列作为连接键"
      ]
    },
    {
      "cell_type": "code",
      "metadata": {
        "colab": {
          "base_uri": "https://localhost:8080/",
          "height": 175
        },
        "id": "TcjUOQAOBg-C",
        "outputId": "7a455c8e-537a-451f-c6a6-9996f6e9d336"
      },
      "source": [
        "df1"
      ],
      "execution_count": 28,
      "outputs": [
        {
          "output_type": "execute_result",
          "data": {
            "text/html": [
              "<div>\n",
              "<style scoped>\n",
              "    .dataframe tbody tr th:only-of-type {\n",
              "        vertical-align: middle;\n",
              "    }\n",
              "\n",
              "    .dataframe tbody tr th {\n",
              "        vertical-align: top;\n",
              "    }\n",
              "\n",
              "    .dataframe thead th {\n",
              "        text-align: right;\n",
              "    }\n",
              "</style>\n",
              "<table border=\"1\" class=\"dataframe\">\n",
              "  <thead>\n",
              "    <tr style=\"text-align: right;\">\n",
              "      <th></th>\n",
              "      <th>名次</th>\n",
              "      <th>姓名</th>\n",
              "      <th>学号</th>\n",
              "      <th>成绩</th>\n",
              "    </tr>\n",
              "  </thead>\n",
              "  <tbody>\n",
              "    <tr>\n",
              "      <th>0</th>\n",
              "      <td>1</td>\n",
              "      <td>小张</td>\n",
              "      <td>100</td>\n",
              "      <td>650</td>\n",
              "    </tr>\n",
              "    <tr>\n",
              "      <th>1</th>\n",
              "      <td>2</td>\n",
              "      <td>小工</td>\n",
              "      <td>101</td>\n",
              "      <td>600</td>\n",
              "    </tr>\n",
              "    <tr>\n",
              "      <th>2</th>\n",
              "      <td>3</td>\n",
              "      <td>小李</td>\n",
              "      <td>102</td>\n",
              "      <td>578</td>\n",
              "    </tr>\n",
              "    <tr>\n",
              "      <th>3</th>\n",
              "      <td>4</td>\n",
              "      <td>小赵</td>\n",
              "      <td>103</td>\n",
              "      <td>550</td>\n",
              "    </tr>\n",
              "  </tbody>\n",
              "</table>\n",
              "</div>"
            ],
            "text/plain": [
              "   名次  姓名   学号   成绩\n",
              "0   1  小张  100  650\n",
              "1   2  小工  101  600\n",
              "2   3  小李  102  578\n",
              "3   4  小赵  103  550"
            ]
          },
          "metadata": {},
          "execution_count": 28
        }
      ]
    },
    {
      "cell_type": "code",
      "metadata": {
        "colab": {
          "base_uri": "https://localhost:8080/",
          "height": 175
        },
        "id": "aT4Ioy3kBn0b",
        "outputId": "361c84bd-6ab0-4091-b94a-08724e62c9d3"
      },
      "source": [
        "df6 = pd.DataFrame([[\"小张\",100,\"张三\"],                    \n",
        "           [\"小工\",101,\"李四\"],\n",
        "           [\"小李\",102,\"王五\"],\n",
        "           [\"小赵\",103,\"周健\"]],\n",
        "           columns = [\"姓名\",\"学号\",\"父母\"])\n",
        "df6"
      ],
      "execution_count": 36,
      "outputs": [
        {
          "output_type": "execute_result",
          "data": {
            "text/html": [
              "<div>\n",
              "<style scoped>\n",
              "    .dataframe tbody tr th:only-of-type {\n",
              "        vertical-align: middle;\n",
              "    }\n",
              "\n",
              "    .dataframe tbody tr th {\n",
              "        vertical-align: top;\n",
              "    }\n",
              "\n",
              "    .dataframe thead th {\n",
              "        text-align: right;\n",
              "    }\n",
              "</style>\n",
              "<table border=\"1\" class=\"dataframe\">\n",
              "  <thead>\n",
              "    <tr style=\"text-align: right;\">\n",
              "      <th></th>\n",
              "      <th>姓名</th>\n",
              "      <th>学号</th>\n",
              "      <th>父母</th>\n",
              "    </tr>\n",
              "  </thead>\n",
              "  <tbody>\n",
              "    <tr>\n",
              "      <th>0</th>\n",
              "      <td>小张</td>\n",
              "      <td>100</td>\n",
              "      <td>张三</td>\n",
              "    </tr>\n",
              "    <tr>\n",
              "      <th>1</th>\n",
              "      <td>小工</td>\n",
              "      <td>101</td>\n",
              "      <td>李四</td>\n",
              "    </tr>\n",
              "    <tr>\n",
              "      <th>2</th>\n",
              "      <td>小李</td>\n",
              "      <td>102</td>\n",
              "      <td>王五</td>\n",
              "    </tr>\n",
              "    <tr>\n",
              "      <th>3</th>\n",
              "      <td>小赵</td>\n",
              "      <td>103</td>\n",
              "      <td>周健</td>\n",
              "    </tr>\n",
              "  </tbody>\n",
              "</table>\n",
              "</div>"
            ],
            "text/plain": [
              "   姓名   学号  父母\n",
              "0  小张  100  张三\n",
              "1  小工  101  李四\n",
              "2  小李  102  王五\n",
              "3  小赵  103  周健"
            ]
          },
          "metadata": {},
          "execution_count": 36
        }
      ]
    },
    {
      "cell_type": "code",
      "metadata": {
        "colab": {
          "base_uri": "https://localhost:8080/",
          "height": 175
        },
        "id": "486Fkxy9B9qS",
        "outputId": "998b28fc-e96b-41f4-8ecb-cc0ab4c7facd"
      },
      "source": [
        "pd.merge(df1, df6, on = [\"姓名\",\"学号\"])"
      ],
      "execution_count": 37,
      "outputs": [
        {
          "output_type": "execute_result",
          "data": {
            "text/html": [
              "<div>\n",
              "<style scoped>\n",
              "    .dataframe tbody tr th:only-of-type {\n",
              "        vertical-align: middle;\n",
              "    }\n",
              "\n",
              "    .dataframe tbody tr th {\n",
              "        vertical-align: top;\n",
              "    }\n",
              "\n",
              "    .dataframe thead th {\n",
              "        text-align: right;\n",
              "    }\n",
              "</style>\n",
              "<table border=\"1\" class=\"dataframe\">\n",
              "  <thead>\n",
              "    <tr style=\"text-align: right;\">\n",
              "      <th></th>\n",
              "      <th>名次</th>\n",
              "      <th>姓名</th>\n",
              "      <th>学号</th>\n",
              "      <th>成绩</th>\n",
              "      <th>父母</th>\n",
              "    </tr>\n",
              "  </thead>\n",
              "  <tbody>\n",
              "    <tr>\n",
              "      <th>0</th>\n",
              "      <td>1</td>\n",
              "      <td>小张</td>\n",
              "      <td>100</td>\n",
              "      <td>650</td>\n",
              "      <td>张三</td>\n",
              "    </tr>\n",
              "    <tr>\n",
              "      <th>1</th>\n",
              "      <td>2</td>\n",
              "      <td>小工</td>\n",
              "      <td>101</td>\n",
              "      <td>600</td>\n",
              "      <td>李四</td>\n",
              "    </tr>\n",
              "    <tr>\n",
              "      <th>2</th>\n",
              "      <td>3</td>\n",
              "      <td>小李</td>\n",
              "      <td>102</td>\n",
              "      <td>578</td>\n",
              "      <td>王五</td>\n",
              "    </tr>\n",
              "    <tr>\n",
              "      <th>3</th>\n",
              "      <td>4</td>\n",
              "      <td>小赵</td>\n",
              "      <td>103</td>\n",
              "      <td>550</td>\n",
              "      <td>周健</td>\n",
              "    </tr>\n",
              "  </tbody>\n",
              "</table>\n",
              "</div>"
            ],
            "text/plain": [
              "   名次  姓名   学号   成绩  父母\n",
              "0   1  小张  100  650  张三\n",
              "1   2  小工  101  600  李四\n",
              "2   3  小李  102  578  王五\n",
              "3   4  小赵  103  550  周健"
            ]
          },
          "metadata": {},
          "execution_count": 37
        }
      ]
    },
    {
      "cell_type": "markdown",
      "metadata": {
        "id": "4GoxeCQpCZfS"
      },
      "source": [
        "如果是两列作为连接，一定是取两列都是都有的"
      ]
    },
    {
      "cell_type": "code",
      "metadata": {
        "colab": {
          "base_uri": "https://localhost:8080/",
          "height": 175
        },
        "id": "kKTpqEBqCe9l",
        "outputId": "6df1a591-b5b0-42ac-8921-5b4a745a8ed9"
      },
      "source": [
        "df7 = pd.DataFrame([[\"小张\",100,\"张三\"],                    \n",
        "           [\"小工\",101,\"李四\"],\n",
        "           [\"小李\",102,\"王五\"],\n",
        "           [\"小赵\",101,\"周健\"]],\n",
        "           columns = [\"姓名\",\"学号\",\"父母\"])\n",
        "df7"
      ],
      "execution_count": 40,
      "outputs": [
        {
          "output_type": "execute_result",
          "data": {
            "text/html": [
              "<div>\n",
              "<style scoped>\n",
              "    .dataframe tbody tr th:only-of-type {\n",
              "        vertical-align: middle;\n",
              "    }\n",
              "\n",
              "    .dataframe tbody tr th {\n",
              "        vertical-align: top;\n",
              "    }\n",
              "\n",
              "    .dataframe thead th {\n",
              "        text-align: right;\n",
              "    }\n",
              "</style>\n",
              "<table border=\"1\" class=\"dataframe\">\n",
              "  <thead>\n",
              "    <tr style=\"text-align: right;\">\n",
              "      <th></th>\n",
              "      <th>姓名</th>\n",
              "      <th>学号</th>\n",
              "      <th>父母</th>\n",
              "    </tr>\n",
              "  </thead>\n",
              "  <tbody>\n",
              "    <tr>\n",
              "      <th>0</th>\n",
              "      <td>小张</td>\n",
              "      <td>100</td>\n",
              "      <td>张三</td>\n",
              "    </tr>\n",
              "    <tr>\n",
              "      <th>1</th>\n",
              "      <td>小工</td>\n",
              "      <td>101</td>\n",
              "      <td>李四</td>\n",
              "    </tr>\n",
              "    <tr>\n",
              "      <th>2</th>\n",
              "      <td>小李</td>\n",
              "      <td>102</td>\n",
              "      <td>王五</td>\n",
              "    </tr>\n",
              "    <tr>\n",
              "      <th>3</th>\n",
              "      <td>小赵</td>\n",
              "      <td>101</td>\n",
              "      <td>周健</td>\n",
              "    </tr>\n",
              "  </tbody>\n",
              "</table>\n",
              "</div>"
            ],
            "text/plain": [
              "   姓名   学号  父母\n",
              "0  小张  100  张三\n",
              "1  小工  101  李四\n",
              "2  小李  102  王五\n",
              "3  小赵  101  周健"
            ]
          },
          "metadata": {},
          "execution_count": 40
        }
      ]
    },
    {
      "cell_type": "code",
      "metadata": {
        "colab": {
          "base_uri": "https://localhost:8080/",
          "height": 143
        },
        "id": "ekXrYQv9Chrq",
        "outputId": "e2789d8f-15cf-4937-f578-a7be3bca009a"
      },
      "source": [
        "pd.merge(df1, df7, on = [\"姓名\",\"学号\"])"
      ],
      "execution_count": 41,
      "outputs": [
        {
          "output_type": "execute_result",
          "data": {
            "text/html": [
              "<div>\n",
              "<style scoped>\n",
              "    .dataframe tbody tr th:only-of-type {\n",
              "        vertical-align: middle;\n",
              "    }\n",
              "\n",
              "    .dataframe tbody tr th {\n",
              "        vertical-align: top;\n",
              "    }\n",
              "\n",
              "    .dataframe thead th {\n",
              "        text-align: right;\n",
              "    }\n",
              "</style>\n",
              "<table border=\"1\" class=\"dataframe\">\n",
              "  <thead>\n",
              "    <tr style=\"text-align: right;\">\n",
              "      <th></th>\n",
              "      <th>名次</th>\n",
              "      <th>姓名</th>\n",
              "      <th>学号</th>\n",
              "      <th>成绩</th>\n",
              "      <th>父母</th>\n",
              "    </tr>\n",
              "  </thead>\n",
              "  <tbody>\n",
              "    <tr>\n",
              "      <th>0</th>\n",
              "      <td>1</td>\n",
              "      <td>小张</td>\n",
              "      <td>100</td>\n",
              "      <td>650</td>\n",
              "      <td>张三</td>\n",
              "    </tr>\n",
              "    <tr>\n",
              "      <th>1</th>\n",
              "      <td>2</td>\n",
              "      <td>小工</td>\n",
              "      <td>101</td>\n",
              "      <td>600</td>\n",
              "      <td>李四</td>\n",
              "    </tr>\n",
              "    <tr>\n",
              "      <th>2</th>\n",
              "      <td>3</td>\n",
              "      <td>小李</td>\n",
              "      <td>102</td>\n",
              "      <td>578</td>\n",
              "      <td>王五</td>\n",
              "    </tr>\n",
              "  </tbody>\n",
              "</table>\n",
              "</div>"
            ],
            "text/plain": [
              "   名次  姓名   学号   成绩  父母\n",
              "0   1  小张  100  650  张三\n",
              "1   2  小工  101  600  李四\n",
              "2   3  小李  102  578  王五"
            ]
          },
          "metadata": {},
          "execution_count": 41
        }
      ]
    },
    {
      "cell_type": "markdown",
      "metadata": {
        "id": "-ThgcicaCpGI"
      },
      "source": [
        "### 分别指定左右键\n",
        "\n",
        "- 当两个表中没有公共列时，这里指的是实际值一样，但列名不同，否则就无法连接了。\n",
        "- 这个时候要分别指定左表和右表的连接键，使用的参数分别是left_on和rigth_on, \n",
        "- left_on用来指明左表用作连接键的列名，\n",
        "- right_on用来指明右表用作连接键的列名"
      ]
    },
    {
      "cell_type": "code",
      "metadata": {
        "colab": {
          "base_uri": "https://localhost:8080/",
          "height": 175
        },
        "id": "n0ZuNjw2CrOD",
        "outputId": "7f8af834-401f-471b-fd49-0b655ee6da6d"
      },
      "source": [
        "df1"
      ],
      "execution_count": 42,
      "outputs": [
        {
          "output_type": "execute_result",
          "data": {
            "text/html": [
              "<div>\n",
              "<style scoped>\n",
              "    .dataframe tbody tr th:only-of-type {\n",
              "        vertical-align: middle;\n",
              "    }\n",
              "\n",
              "    .dataframe tbody tr th {\n",
              "        vertical-align: top;\n",
              "    }\n",
              "\n",
              "    .dataframe thead th {\n",
              "        text-align: right;\n",
              "    }\n",
              "</style>\n",
              "<table border=\"1\" class=\"dataframe\">\n",
              "  <thead>\n",
              "    <tr style=\"text-align: right;\">\n",
              "      <th></th>\n",
              "      <th>名次</th>\n",
              "      <th>姓名</th>\n",
              "      <th>学号</th>\n",
              "      <th>成绩</th>\n",
              "    </tr>\n",
              "  </thead>\n",
              "  <tbody>\n",
              "    <tr>\n",
              "      <th>0</th>\n",
              "      <td>1</td>\n",
              "      <td>小张</td>\n",
              "      <td>100</td>\n",
              "      <td>650</td>\n",
              "    </tr>\n",
              "    <tr>\n",
              "      <th>1</th>\n",
              "      <td>2</td>\n",
              "      <td>小工</td>\n",
              "      <td>101</td>\n",
              "      <td>600</td>\n",
              "    </tr>\n",
              "    <tr>\n",
              "      <th>2</th>\n",
              "      <td>3</td>\n",
              "      <td>小李</td>\n",
              "      <td>102</td>\n",
              "      <td>578</td>\n",
              "    </tr>\n",
              "    <tr>\n",
              "      <th>3</th>\n",
              "      <td>4</td>\n",
              "      <td>小赵</td>\n",
              "      <td>103</td>\n",
              "      <td>550</td>\n",
              "    </tr>\n",
              "  </tbody>\n",
              "</table>\n",
              "</div>"
            ],
            "text/plain": [
              "   名次  姓名   学号   成绩\n",
              "0   1  小张  100  650\n",
              "1   2  小工  101  600\n",
              "2   3  小李  102  578\n",
              "3   4  小赵  103  550"
            ]
          },
          "metadata": {},
          "execution_count": 42
        }
      ]
    },
    {
      "cell_type": "code",
      "metadata": {
        "colab": {
          "base_uri": "https://localhost:8080/",
          "height": 175
        },
        "id": "-dC0ARaEC5b8",
        "outputId": "574c4681-5cda-4cf7-9b74-185bfc52570d"
      },
      "source": [
        "df8 = pd.DataFrame([[100,\"张三\"],                    \n",
        "           [101,\"李四\"],\n",
        "           [102,\"王五\"],\n",
        "           [103,\"周健\"]],\n",
        "           columns = [\"编号\",\"父母\"])\n",
        "df8"
      ],
      "execution_count": 43,
      "outputs": [
        {
          "output_type": "execute_result",
          "data": {
            "text/html": [
              "<div>\n",
              "<style scoped>\n",
              "    .dataframe tbody tr th:only-of-type {\n",
              "        vertical-align: middle;\n",
              "    }\n",
              "\n",
              "    .dataframe tbody tr th {\n",
              "        vertical-align: top;\n",
              "    }\n",
              "\n",
              "    .dataframe thead th {\n",
              "        text-align: right;\n",
              "    }\n",
              "</style>\n",
              "<table border=\"1\" class=\"dataframe\">\n",
              "  <thead>\n",
              "    <tr style=\"text-align: right;\">\n",
              "      <th></th>\n",
              "      <th>编号</th>\n",
              "      <th>父母</th>\n",
              "    </tr>\n",
              "  </thead>\n",
              "  <tbody>\n",
              "    <tr>\n",
              "      <th>0</th>\n",
              "      <td>100</td>\n",
              "      <td>张三</td>\n",
              "    </tr>\n",
              "    <tr>\n",
              "      <th>1</th>\n",
              "      <td>101</td>\n",
              "      <td>李四</td>\n",
              "    </tr>\n",
              "    <tr>\n",
              "      <th>2</th>\n",
              "      <td>102</td>\n",
              "      <td>王五</td>\n",
              "    </tr>\n",
              "    <tr>\n",
              "      <th>3</th>\n",
              "      <td>103</td>\n",
              "      <td>周健</td>\n",
              "    </tr>\n",
              "  </tbody>\n",
              "</table>\n",
              "</div>"
            ],
            "text/plain": [
              "    编号  父母\n",
              "0  100  张三\n",
              "1  101  李四\n",
              "2  102  王五\n",
              "3  103  周健"
            ]
          },
          "metadata": {},
          "execution_count": 43
        }
      ]
    },
    {
      "cell_type": "code",
      "metadata": {
        "colab": {
          "base_uri": "https://localhost:8080/",
          "height": 175
        },
        "id": "ACXGfNY2DHW7",
        "outputId": "f31524be-2f72-43d7-9065-bc3463c52004"
      },
      "source": [
        "pd.merge(df1, df2, left_on= \"学号\", right_on = \"学号\")"
      ],
      "execution_count": 44,
      "outputs": [
        {
          "output_type": "execute_result",
          "data": {
            "text/html": [
              "<div>\n",
              "<style scoped>\n",
              "    .dataframe tbody tr th:only-of-type {\n",
              "        vertical-align: middle;\n",
              "    }\n",
              "\n",
              "    .dataframe tbody tr th {\n",
              "        vertical-align: top;\n",
              "    }\n",
              "\n",
              "    .dataframe thead th {\n",
              "        text-align: right;\n",
              "    }\n",
              "</style>\n",
              "<table border=\"1\" class=\"dataframe\">\n",
              "  <thead>\n",
              "    <tr style=\"text-align: right;\">\n",
              "      <th></th>\n",
              "      <th>名次</th>\n",
              "      <th>姓名</th>\n",
              "      <th>学号</th>\n",
              "      <th>成绩</th>\n",
              "      <th>班级</th>\n",
              "    </tr>\n",
              "  </thead>\n",
              "  <tbody>\n",
              "    <tr>\n",
              "      <th>0</th>\n",
              "      <td>1</td>\n",
              "      <td>小张</td>\n",
              "      <td>100</td>\n",
              "      <td>650</td>\n",
              "      <td>一班</td>\n",
              "    </tr>\n",
              "    <tr>\n",
              "      <th>1</th>\n",
              "      <td>2</td>\n",
              "      <td>小工</td>\n",
              "      <td>101</td>\n",
              "      <td>600</td>\n",
              "      <td>二班</td>\n",
              "    </tr>\n",
              "    <tr>\n",
              "      <th>2</th>\n",
              "      <td>3</td>\n",
              "      <td>小李</td>\n",
              "      <td>102</td>\n",
              "      <td>578</td>\n",
              "      <td>三班</td>\n",
              "    </tr>\n",
              "    <tr>\n",
              "      <th>3</th>\n",
              "      <td>4</td>\n",
              "      <td>小赵</td>\n",
              "      <td>103</td>\n",
              "      <td>550</td>\n",
              "      <td>四班</td>\n",
              "    </tr>\n",
              "  </tbody>\n",
              "</table>\n",
              "</div>"
            ],
            "text/plain": [
              "   名次  姓名   学号   成绩  班级\n",
              "0   1  小张  100  650  一班\n",
              "1   2  小工  101  600  二班\n",
              "2   3  小李  102  578  三班\n",
              "3   4  小赵  103  550  四班"
            ]
          },
          "metadata": {},
          "execution_count": 44
        }
      ]
    },
    {
      "cell_type": "markdown",
      "metadata": {
        "id": "xrZDN0D8DSfn"
      },
      "source": [
        "### 把索引列当作连接键\n",
        "\n",
        "- 索引列不算是真正的列，当公共列是索引列时，就要把索引列当作连接键\n",
        "- 使用的参数分别是 left_index 和 right_index,\n",
        "- left_index 用来控制左表的索引\n",
        "- right_index用来控制右表的索引，\n"
      ]
    },
    {
      "cell_type": "code",
      "metadata": {
        "colab": {
          "base_uri": "https://localhost:8080/",
          "height": 205
        },
        "id": "yBESx00LEBDT",
        "outputId": "f1b06db8-9ae8-48e8-e7b1-74ea47264a74"
      },
      "source": [
        "df1"
      ],
      "execution_count": 52,
      "outputs": [
        {
          "output_type": "execute_result",
          "data": {
            "text/html": [
              "<div>\n",
              "<style scoped>\n",
              "    .dataframe tbody tr th:only-of-type {\n",
              "        vertical-align: middle;\n",
              "    }\n",
              "\n",
              "    .dataframe tbody tr th {\n",
              "        vertical-align: top;\n",
              "    }\n",
              "\n",
              "    .dataframe thead th {\n",
              "        text-align: right;\n",
              "    }\n",
              "</style>\n",
              "<table border=\"1\" class=\"dataframe\">\n",
              "  <thead>\n",
              "    <tr style=\"text-align: right;\">\n",
              "      <th></th>\n",
              "      <th>名次</th>\n",
              "      <th>学号</th>\n",
              "      <th>成绩</th>\n",
              "    </tr>\n",
              "    <tr>\n",
              "      <th>姓名</th>\n",
              "      <th></th>\n",
              "      <th></th>\n",
              "      <th></th>\n",
              "    </tr>\n",
              "  </thead>\n",
              "  <tbody>\n",
              "    <tr>\n",
              "      <th>小张</th>\n",
              "      <td>1</td>\n",
              "      <td>100</td>\n",
              "      <td>650</td>\n",
              "    </tr>\n",
              "    <tr>\n",
              "      <th>小工</th>\n",
              "      <td>2</td>\n",
              "      <td>101</td>\n",
              "      <td>600</td>\n",
              "    </tr>\n",
              "    <tr>\n",
              "      <th>小李</th>\n",
              "      <td>3</td>\n",
              "      <td>102</td>\n",
              "      <td>578</td>\n",
              "    </tr>\n",
              "    <tr>\n",
              "      <th>小赵</th>\n",
              "      <td>4</td>\n",
              "      <td>103</td>\n",
              "      <td>550</td>\n",
              "    </tr>\n",
              "  </tbody>\n",
              "</table>\n",
              "</div>"
            ],
            "text/plain": [
              "    名次   学号   成绩\n",
              "姓名              \n",
              "小张   1  100  650\n",
              "小工   2  101  600\n",
              "小李   3  102  578\n",
              "小赵   4  103  550"
            ]
          },
          "metadata": {},
          "execution_count": 52
        }
      ]
    },
    {
      "cell_type": "code",
      "metadata": {
        "colab": {
          "base_uri": "https://localhost:8080/",
          "height": 175
        },
        "id": "zsl7gvBSECqu",
        "outputId": "36748862-93ef-4f09-f183-cd7d68ec2661"
      },
      "source": [
        "df6"
      ],
      "execution_count": 53,
      "outputs": [
        {
          "output_type": "execute_result",
          "data": {
            "text/html": [
              "<div>\n",
              "<style scoped>\n",
              "    .dataframe tbody tr th:only-of-type {\n",
              "        vertical-align: middle;\n",
              "    }\n",
              "\n",
              "    .dataframe tbody tr th {\n",
              "        vertical-align: top;\n",
              "    }\n",
              "\n",
              "    .dataframe thead th {\n",
              "        text-align: right;\n",
              "    }\n",
              "</style>\n",
              "<table border=\"1\" class=\"dataframe\">\n",
              "  <thead>\n",
              "    <tr style=\"text-align: right;\">\n",
              "      <th></th>\n",
              "      <th>姓名</th>\n",
              "      <th>学号</th>\n",
              "      <th>父母</th>\n",
              "    </tr>\n",
              "  </thead>\n",
              "  <tbody>\n",
              "    <tr>\n",
              "      <th>0</th>\n",
              "      <td>小张</td>\n",
              "      <td>100</td>\n",
              "      <td>张三</td>\n",
              "    </tr>\n",
              "    <tr>\n",
              "      <th>1</th>\n",
              "      <td>小工</td>\n",
              "      <td>101</td>\n",
              "      <td>李四</td>\n",
              "    </tr>\n",
              "    <tr>\n",
              "      <th>2</th>\n",
              "      <td>小李</td>\n",
              "      <td>102</td>\n",
              "      <td>王五</td>\n",
              "    </tr>\n",
              "    <tr>\n",
              "      <th>3</th>\n",
              "      <td>小赵</td>\n",
              "      <td>103</td>\n",
              "      <td>周健</td>\n",
              "    </tr>\n",
              "  </tbody>\n",
              "</table>\n",
              "</div>"
            ],
            "text/plain": [
              "   姓名   学号  父母\n",
              "0  小张  100  张三\n",
              "1  小工  101  李四\n",
              "2  小李  102  王五\n",
              "3  小赵  103  周健"
            ]
          },
          "metadata": {},
          "execution_count": 53
        }
      ]
    },
    {
      "cell_type": "code",
      "metadata": {
        "id": "_Kbtd-hKGQLt"
      },
      "source": [
        "df6.set_index('姓名', inplace = True)"
      ],
      "execution_count": 54,
      "outputs": []
    },
    {
      "cell_type": "code",
      "metadata": {
        "colab": {
          "base_uri": "https://localhost:8080/",
          "height": 205
        },
        "id": "ooYChDmDGWyC",
        "outputId": "acf4ce22-b0e8-4970-b9c7-29ab07dfde13"
      },
      "source": [
        "df6"
      ],
      "execution_count": 55,
      "outputs": [
        {
          "output_type": "execute_result",
          "data": {
            "text/html": [
              "<div>\n",
              "<style scoped>\n",
              "    .dataframe tbody tr th:only-of-type {\n",
              "        vertical-align: middle;\n",
              "    }\n",
              "\n",
              "    .dataframe tbody tr th {\n",
              "        vertical-align: top;\n",
              "    }\n",
              "\n",
              "    .dataframe thead th {\n",
              "        text-align: right;\n",
              "    }\n",
              "</style>\n",
              "<table border=\"1\" class=\"dataframe\">\n",
              "  <thead>\n",
              "    <tr style=\"text-align: right;\">\n",
              "      <th></th>\n",
              "      <th>学号</th>\n",
              "      <th>父母</th>\n",
              "    </tr>\n",
              "    <tr>\n",
              "      <th>姓名</th>\n",
              "      <th></th>\n",
              "      <th></th>\n",
              "    </tr>\n",
              "  </thead>\n",
              "  <tbody>\n",
              "    <tr>\n",
              "      <th>小张</th>\n",
              "      <td>100</td>\n",
              "      <td>张三</td>\n",
              "    </tr>\n",
              "    <tr>\n",
              "      <th>小工</th>\n",
              "      <td>101</td>\n",
              "      <td>李四</td>\n",
              "    </tr>\n",
              "    <tr>\n",
              "      <th>小李</th>\n",
              "      <td>102</td>\n",
              "      <td>王五</td>\n",
              "    </tr>\n",
              "    <tr>\n",
              "      <th>小赵</th>\n",
              "      <td>103</td>\n",
              "      <td>周健</td>\n",
              "    </tr>\n",
              "  </tbody>\n",
              "</table>\n",
              "</div>"
            ],
            "text/plain": [
              "     学号  父母\n",
              "姓名         \n",
              "小张  100  张三\n",
              "小工  101  李四\n",
              "小李  102  王五\n",
              "小赵  103  周健"
            ]
          },
          "metadata": {},
          "execution_count": 55
        }
      ]
    },
    {
      "cell_type": "code",
      "metadata": {
        "colab": {
          "base_uri": "https://localhost:8080/",
          "height": 205
        },
        "id": "6Wh7hWtQGYtK",
        "outputId": "4add46a7-3f5c-4fa0-b99c-fc799a68b3d1"
      },
      "source": [
        "pd.merge(df1, df6, left_index=True, right_index=True)"
      ],
      "execution_count": 56,
      "outputs": [
        {
          "output_type": "execute_result",
          "data": {
            "text/html": [
              "<div>\n",
              "<style scoped>\n",
              "    .dataframe tbody tr th:only-of-type {\n",
              "        vertical-align: middle;\n",
              "    }\n",
              "\n",
              "    .dataframe tbody tr th {\n",
              "        vertical-align: top;\n",
              "    }\n",
              "\n",
              "    .dataframe thead th {\n",
              "        text-align: right;\n",
              "    }\n",
              "</style>\n",
              "<table border=\"1\" class=\"dataframe\">\n",
              "  <thead>\n",
              "    <tr style=\"text-align: right;\">\n",
              "      <th></th>\n",
              "      <th>名次</th>\n",
              "      <th>学号_x</th>\n",
              "      <th>成绩</th>\n",
              "      <th>学号_y</th>\n",
              "      <th>父母</th>\n",
              "    </tr>\n",
              "    <tr>\n",
              "      <th>姓名</th>\n",
              "      <th></th>\n",
              "      <th></th>\n",
              "      <th></th>\n",
              "      <th></th>\n",
              "      <th></th>\n",
              "    </tr>\n",
              "  </thead>\n",
              "  <tbody>\n",
              "    <tr>\n",
              "      <th>小张</th>\n",
              "      <td>1</td>\n",
              "      <td>100</td>\n",
              "      <td>650</td>\n",
              "      <td>100</td>\n",
              "      <td>张三</td>\n",
              "    </tr>\n",
              "    <tr>\n",
              "      <th>小工</th>\n",
              "      <td>2</td>\n",
              "      <td>101</td>\n",
              "      <td>600</td>\n",
              "      <td>101</td>\n",
              "      <td>李四</td>\n",
              "    </tr>\n",
              "    <tr>\n",
              "      <th>小李</th>\n",
              "      <td>3</td>\n",
              "      <td>102</td>\n",
              "      <td>578</td>\n",
              "      <td>102</td>\n",
              "      <td>王五</td>\n",
              "    </tr>\n",
              "    <tr>\n",
              "      <th>小赵</th>\n",
              "      <td>4</td>\n",
              "      <td>103</td>\n",
              "      <td>550</td>\n",
              "      <td>103</td>\n",
              "      <td>周健</td>\n",
              "    </tr>\n",
              "  </tbody>\n",
              "</table>\n",
              "</div>"
            ],
            "text/plain": [
              "    名次  学号_x   成绩  学号_y  父母\n",
              "姓名                         \n",
              "小张   1   100  650   100  张三\n",
              "小工   2   101  600   101  李四\n",
              "小李   3   102  578   102  王五\n",
              "小赵   4   103  550   103  周健"
            ]
          },
          "metadata": {},
          "execution_count": 56
        }
      ]
    },
    {
      "cell_type": "markdown",
      "metadata": {
        "id": "7WEfDHraGvOa"
      },
      "source": [
        "左表的连接键为索引，右表的连接键为普通列。"
      ]
    },
    {
      "cell_type": "code",
      "metadata": {
        "colab": {
          "base_uri": "https://localhost:8080/",
          "height": 175
        },
        "id": "eQZ4--ruGvnW",
        "outputId": "6f386c1c-4e4b-470d-abb4-254bb88ea031"
      },
      "source": [
        "pd.merge(df1, df6, left_on= '学号', right_on='学号')"
      ],
      "execution_count": 58,
      "outputs": [
        {
          "output_type": "execute_result",
          "data": {
            "text/html": [
              "<div>\n",
              "<style scoped>\n",
              "    .dataframe tbody tr th:only-of-type {\n",
              "        vertical-align: middle;\n",
              "    }\n",
              "\n",
              "    .dataframe tbody tr th {\n",
              "        vertical-align: top;\n",
              "    }\n",
              "\n",
              "    .dataframe thead th {\n",
              "        text-align: right;\n",
              "    }\n",
              "</style>\n",
              "<table border=\"1\" class=\"dataframe\">\n",
              "  <thead>\n",
              "    <tr style=\"text-align: right;\">\n",
              "      <th></th>\n",
              "      <th>名次</th>\n",
              "      <th>学号</th>\n",
              "      <th>成绩</th>\n",
              "      <th>父母</th>\n",
              "    </tr>\n",
              "  </thead>\n",
              "  <tbody>\n",
              "    <tr>\n",
              "      <th>0</th>\n",
              "      <td>1</td>\n",
              "      <td>100</td>\n",
              "      <td>650</td>\n",
              "      <td>张三</td>\n",
              "    </tr>\n",
              "    <tr>\n",
              "      <th>1</th>\n",
              "      <td>2</td>\n",
              "      <td>101</td>\n",
              "      <td>600</td>\n",
              "      <td>李四</td>\n",
              "    </tr>\n",
              "    <tr>\n",
              "      <th>2</th>\n",
              "      <td>3</td>\n",
              "      <td>102</td>\n",
              "      <td>578</td>\n",
              "      <td>王五</td>\n",
              "    </tr>\n",
              "    <tr>\n",
              "      <th>3</th>\n",
              "      <td>4</td>\n",
              "      <td>103</td>\n",
              "      <td>550</td>\n",
              "      <td>周健</td>\n",
              "    </tr>\n",
              "  </tbody>\n",
              "</table>\n",
              "</div>"
            ],
            "text/plain": [
              "   名次   学号   成绩  父母\n",
              "0   1  100  650  张三\n",
              "1   2  101  600  李四\n",
              "2   3  102  578  王五\n",
              "3   4  103  550  周健"
            ]
          },
          "metadata": {},
          "execution_count": 58
        }
      ]
    },
    {
      "cell_type": "markdown",
      "metadata": {
        "id": "SDrt4iZJHHQy"
      },
      "source": [
        "## 3.连接方式\n",
        "\n",
        "- 前两个小节我们举的例子比较标准，也就是左表中的公共列的值都可以在右表对应的公共列中找到，右表公共列的值也可以在左表对应的公共列中\n",
        "\n",
        "- 但是现实业务中很多是互相找不到的，这个时候该怎么办呢？这就衍生出了用来处理找不到的情况的几种连接方式\n",
        "\n",
        "- 用参数**how**来指明具体的连接方式。"
      ]
    },
    {
      "cell_type": "markdown",
      "metadata": {
        "id": "8AZfyL24HyLi"
      },
      "source": [
        "### 内连接（inner）\n",
        "\n",
        "- 内连接就是取两个表中的公共部分\n",
        "- 如果不指明连接方式，则默认都是内连接。"
      ]
    },
    {
      "cell_type": "code",
      "metadata": {
        "colab": {
          "base_uri": "https://localhost:8080/",
          "height": 175
        },
        "id": "57K00ESsH_qR",
        "outputId": "095e6492-1e2d-45ff-aaa9-ddfa92aa07b6"
      },
      "source": [
        "df_1 = pd.DataFrame([[1,\"小张\",100,650],\n",
        "           [2,\"小工\",101,600],\n",
        "           [3,\"小李\",102,578],\n",
        "           [4,\"小赵\",103,550]],\n",
        "           columns = [\"名次\",\"姓名\",\"学号\",\"成绩\"])\n",
        "df_1"
      ],
      "execution_count": 59,
      "outputs": [
        {
          "output_type": "execute_result",
          "data": {
            "text/html": [
              "<div>\n",
              "<style scoped>\n",
              "    .dataframe tbody tr th:only-of-type {\n",
              "        vertical-align: middle;\n",
              "    }\n",
              "\n",
              "    .dataframe tbody tr th {\n",
              "        vertical-align: top;\n",
              "    }\n",
              "\n",
              "    .dataframe thead th {\n",
              "        text-align: right;\n",
              "    }\n",
              "</style>\n",
              "<table border=\"1\" class=\"dataframe\">\n",
              "  <thead>\n",
              "    <tr style=\"text-align: right;\">\n",
              "      <th></th>\n",
              "      <th>名次</th>\n",
              "      <th>姓名</th>\n",
              "      <th>学号</th>\n",
              "      <th>成绩</th>\n",
              "    </tr>\n",
              "  </thead>\n",
              "  <tbody>\n",
              "    <tr>\n",
              "      <th>0</th>\n",
              "      <td>1</td>\n",
              "      <td>小张</td>\n",
              "      <td>100</td>\n",
              "      <td>650</td>\n",
              "    </tr>\n",
              "    <tr>\n",
              "      <th>1</th>\n",
              "      <td>2</td>\n",
              "      <td>小工</td>\n",
              "      <td>101</td>\n",
              "      <td>600</td>\n",
              "    </tr>\n",
              "    <tr>\n",
              "      <th>2</th>\n",
              "      <td>3</td>\n",
              "      <td>小李</td>\n",
              "      <td>102</td>\n",
              "      <td>578</td>\n",
              "    </tr>\n",
              "    <tr>\n",
              "      <th>3</th>\n",
              "      <td>4</td>\n",
              "      <td>小赵</td>\n",
              "      <td>103</td>\n",
              "      <td>550</td>\n",
              "    </tr>\n",
              "  </tbody>\n",
              "</table>\n",
              "</div>"
            ],
            "text/plain": [
              "   名次  姓名   学号   成绩\n",
              "0   1  小张  100  650\n",
              "1   2  小工  101  600\n",
              "2   3  小李  102  578\n",
              "3   4  小赵  103  550"
            ]
          },
          "metadata": {},
          "execution_count": 59
        }
      ]
    },
    {
      "cell_type": "code",
      "metadata": {
        "colab": {
          "base_uri": "https://localhost:8080/",
          "height": 175
        },
        "id": "20Fz4g_EIJZX",
        "outputId": "f3bd3d53-4701-461e-a29b-47b39fc9e512"
      },
      "source": [
        "df_2 = pd.DataFrame([[\"小张\",100,'1班'],\n",
        "           [\"小工\",101,'1班'],\n",
        "           [\"小李\",102,'2班'],\n",
        "           [\"小钱\",104,'2班']],\n",
        "           columns = [\"姓名\",\"学号\",\"班级\"])\n",
        "df_2"
      ],
      "execution_count": 61,
      "outputs": [
        {
          "output_type": "execute_result",
          "data": {
            "text/html": [
              "<div>\n",
              "<style scoped>\n",
              "    .dataframe tbody tr th:only-of-type {\n",
              "        vertical-align: middle;\n",
              "    }\n",
              "\n",
              "    .dataframe tbody tr th {\n",
              "        vertical-align: top;\n",
              "    }\n",
              "\n",
              "    .dataframe thead th {\n",
              "        text-align: right;\n",
              "    }\n",
              "</style>\n",
              "<table border=\"1\" class=\"dataframe\">\n",
              "  <thead>\n",
              "    <tr style=\"text-align: right;\">\n",
              "      <th></th>\n",
              "      <th>姓名</th>\n",
              "      <th>学号</th>\n",
              "      <th>班级</th>\n",
              "    </tr>\n",
              "  </thead>\n",
              "  <tbody>\n",
              "    <tr>\n",
              "      <th>0</th>\n",
              "      <td>小张</td>\n",
              "      <td>100</td>\n",
              "      <td>1班</td>\n",
              "    </tr>\n",
              "    <tr>\n",
              "      <th>1</th>\n",
              "      <td>小工</td>\n",
              "      <td>101</td>\n",
              "      <td>1班</td>\n",
              "    </tr>\n",
              "    <tr>\n",
              "      <th>2</th>\n",
              "      <td>小李</td>\n",
              "      <td>102</td>\n",
              "      <td>2班</td>\n",
              "    </tr>\n",
              "    <tr>\n",
              "      <th>3</th>\n",
              "      <td>小钱</td>\n",
              "      <td>104</td>\n",
              "      <td>2班</td>\n",
              "    </tr>\n",
              "  </tbody>\n",
              "</table>\n",
              "</div>"
            ],
            "text/plain": [
              "   姓名   学号  班级\n",
              "0  小张  100  1班\n",
              "1  小工  101  1班\n",
              "2  小李  102  2班\n",
              "3  小钱  104  2班"
            ]
          },
          "metadata": {},
          "execution_count": 61
        }
      ]
    },
    {
      "cell_type": "code",
      "metadata": {
        "colab": {
          "base_uri": "https://localhost:8080/",
          "height": 143
        },
        "id": "XBCm9UIkIh3b",
        "outputId": "470dd055-e05b-4b17-f78d-bf47b9851f2b"
      },
      "source": [
        "pd.merge(df_1, df_2, on = '学号', how = 'inner')"
      ],
      "execution_count": 62,
      "outputs": [
        {
          "output_type": "execute_result",
          "data": {
            "text/html": [
              "<div>\n",
              "<style scoped>\n",
              "    .dataframe tbody tr th:only-of-type {\n",
              "        vertical-align: middle;\n",
              "    }\n",
              "\n",
              "    .dataframe tbody tr th {\n",
              "        vertical-align: top;\n",
              "    }\n",
              "\n",
              "    .dataframe thead th {\n",
              "        text-align: right;\n",
              "    }\n",
              "</style>\n",
              "<table border=\"1\" class=\"dataframe\">\n",
              "  <thead>\n",
              "    <tr style=\"text-align: right;\">\n",
              "      <th></th>\n",
              "      <th>名次</th>\n",
              "      <th>姓名_x</th>\n",
              "      <th>学号</th>\n",
              "      <th>成绩</th>\n",
              "      <th>姓名_y</th>\n",
              "      <th>班级</th>\n",
              "    </tr>\n",
              "  </thead>\n",
              "  <tbody>\n",
              "    <tr>\n",
              "      <th>0</th>\n",
              "      <td>1</td>\n",
              "      <td>小张</td>\n",
              "      <td>100</td>\n",
              "      <td>650</td>\n",
              "      <td>小张</td>\n",
              "      <td>1班</td>\n",
              "    </tr>\n",
              "    <tr>\n",
              "      <th>1</th>\n",
              "      <td>2</td>\n",
              "      <td>小工</td>\n",
              "      <td>101</td>\n",
              "      <td>600</td>\n",
              "      <td>小工</td>\n",
              "      <td>1班</td>\n",
              "    </tr>\n",
              "    <tr>\n",
              "      <th>2</th>\n",
              "      <td>3</td>\n",
              "      <td>小李</td>\n",
              "      <td>102</td>\n",
              "      <td>578</td>\n",
              "      <td>小李</td>\n",
              "      <td>2班</td>\n",
              "    </tr>\n",
              "  </tbody>\n",
              "</table>\n",
              "</div>"
            ],
            "text/plain": [
              "   名次 姓名_x   学号   成绩 姓名_y  班级\n",
              "0   1   小张  100  650   小张  1班\n",
              "1   2   小工  101  600   小工  1班\n",
              "2   3   小李  102  578   小李  2班"
            ]
          },
          "metadata": {},
          "execution_count": 62
        }
      ]
    },
    {
      "cell_type": "markdown",
      "metadata": {
        "id": "XftiqURjIxT3"
      },
      "source": [
        "### 左连接（left）\n",
        "\n",
        "- 左连接就是以左表为基础，右表往左表上拼接。下例的右表中没有学号为103的信息，拼接过来的信息就用NaN填充。\n",
        "\n",
        "- 下例的右表中没有学号为103的信息，拼接过来的信息就用NaN填充。"
      ]
    },
    {
      "cell_type": "code",
      "metadata": {
        "colab": {
          "base_uri": "https://localhost:8080/",
          "height": 175
        },
        "id": "X52aM26XJAyg",
        "outputId": "d972daf5-a1f1-4a5b-e9da-767273930e87"
      },
      "source": [
        "pd.merge(df_1, df_2, on = '学号', how = 'left')"
      ],
      "execution_count": 63,
      "outputs": [
        {
          "output_type": "execute_result",
          "data": {
            "text/html": [
              "<div>\n",
              "<style scoped>\n",
              "    .dataframe tbody tr th:only-of-type {\n",
              "        vertical-align: middle;\n",
              "    }\n",
              "\n",
              "    .dataframe tbody tr th {\n",
              "        vertical-align: top;\n",
              "    }\n",
              "\n",
              "    .dataframe thead th {\n",
              "        text-align: right;\n",
              "    }\n",
              "</style>\n",
              "<table border=\"1\" class=\"dataframe\">\n",
              "  <thead>\n",
              "    <tr style=\"text-align: right;\">\n",
              "      <th></th>\n",
              "      <th>名次</th>\n",
              "      <th>姓名_x</th>\n",
              "      <th>学号</th>\n",
              "      <th>成绩</th>\n",
              "      <th>姓名_y</th>\n",
              "      <th>班级</th>\n",
              "    </tr>\n",
              "  </thead>\n",
              "  <tbody>\n",
              "    <tr>\n",
              "      <th>0</th>\n",
              "      <td>1</td>\n",
              "      <td>小张</td>\n",
              "      <td>100</td>\n",
              "      <td>650</td>\n",
              "      <td>小张</td>\n",
              "      <td>1班</td>\n",
              "    </tr>\n",
              "    <tr>\n",
              "      <th>1</th>\n",
              "      <td>2</td>\n",
              "      <td>小工</td>\n",
              "      <td>101</td>\n",
              "      <td>600</td>\n",
              "      <td>小工</td>\n",
              "      <td>1班</td>\n",
              "    </tr>\n",
              "    <tr>\n",
              "      <th>2</th>\n",
              "      <td>3</td>\n",
              "      <td>小李</td>\n",
              "      <td>102</td>\n",
              "      <td>578</td>\n",
              "      <td>小李</td>\n",
              "      <td>2班</td>\n",
              "    </tr>\n",
              "    <tr>\n",
              "      <th>3</th>\n",
              "      <td>4</td>\n",
              "      <td>小赵</td>\n",
              "      <td>103</td>\n",
              "      <td>550</td>\n",
              "      <td>NaN</td>\n",
              "      <td>NaN</td>\n",
              "    </tr>\n",
              "  </tbody>\n",
              "</table>\n",
              "</div>"
            ],
            "text/plain": [
              "   名次 姓名_x   学号   成绩 姓名_y   班级\n",
              "0   1   小张  100  650   小张   1班\n",
              "1   2   小工  101  600   小工   1班\n",
              "2   3   小李  102  578   小李   2班\n",
              "3   4   小赵  103  550  NaN  NaN"
            ]
          },
          "metadata": {},
          "execution_count": 63
        }
      ]
    },
    {
      "cell_type": "markdown",
      "metadata": {
        "id": "H0a6cgI6JTJl"
      },
      "source": [
        "### 右连接\n",
        "\n",
        "- 右连接就是以右表为基础，左表往右表上拼接。下例的左表中没有学号为104的信息，拼接过来的信息就用NaN填充。"
      ]
    },
    {
      "cell_type": "code",
      "metadata": {
        "colab": {
          "base_uri": "https://localhost:8080/",
          "height": 175
        },
        "id": "bmBjdSQuJX21",
        "outputId": "12e838a9-9227-49d9-d915-c66b3936c9e2"
      },
      "source": [
        "pd.merge(df_1, df_2, on = '学号', how = 'right')"
      ],
      "execution_count": 64,
      "outputs": [
        {
          "output_type": "execute_result",
          "data": {
            "text/html": [
              "<div>\n",
              "<style scoped>\n",
              "    .dataframe tbody tr th:only-of-type {\n",
              "        vertical-align: middle;\n",
              "    }\n",
              "\n",
              "    .dataframe tbody tr th {\n",
              "        vertical-align: top;\n",
              "    }\n",
              "\n",
              "    .dataframe thead th {\n",
              "        text-align: right;\n",
              "    }\n",
              "</style>\n",
              "<table border=\"1\" class=\"dataframe\">\n",
              "  <thead>\n",
              "    <tr style=\"text-align: right;\">\n",
              "      <th></th>\n",
              "      <th>名次</th>\n",
              "      <th>姓名_x</th>\n",
              "      <th>学号</th>\n",
              "      <th>成绩</th>\n",
              "      <th>姓名_y</th>\n",
              "      <th>班级</th>\n",
              "    </tr>\n",
              "  </thead>\n",
              "  <tbody>\n",
              "    <tr>\n",
              "      <th>0</th>\n",
              "      <td>1.0</td>\n",
              "      <td>小张</td>\n",
              "      <td>100</td>\n",
              "      <td>650.0</td>\n",
              "      <td>小张</td>\n",
              "      <td>1班</td>\n",
              "    </tr>\n",
              "    <tr>\n",
              "      <th>1</th>\n",
              "      <td>2.0</td>\n",
              "      <td>小工</td>\n",
              "      <td>101</td>\n",
              "      <td>600.0</td>\n",
              "      <td>小工</td>\n",
              "      <td>1班</td>\n",
              "    </tr>\n",
              "    <tr>\n",
              "      <th>2</th>\n",
              "      <td>3.0</td>\n",
              "      <td>小李</td>\n",
              "      <td>102</td>\n",
              "      <td>578.0</td>\n",
              "      <td>小李</td>\n",
              "      <td>2班</td>\n",
              "    </tr>\n",
              "    <tr>\n",
              "      <th>3</th>\n",
              "      <td>NaN</td>\n",
              "      <td>NaN</td>\n",
              "      <td>104</td>\n",
              "      <td>NaN</td>\n",
              "      <td>小钱</td>\n",
              "      <td>2班</td>\n",
              "    </tr>\n",
              "  </tbody>\n",
              "</table>\n",
              "</div>"
            ],
            "text/plain": [
              "    名次 姓名_x   学号     成绩 姓名_y  班级\n",
              "0  1.0   小张  100  650.0   小张  1班\n",
              "1  2.0   小工  101  600.0   小工  1班\n",
              "2  3.0   小李  102  578.0   小李  2班\n",
              "3  NaN  NaN  104    NaN   小钱  2班"
            ]
          },
          "metadata": {},
          "execution_count": 64
        }
      ]
    },
    {
      "cell_type": "markdown",
      "metadata": {
        "id": "QdPfzIynJcD_"
      },
      "source": [
        "### 外连接（outer）\n",
        "\n",
        "- 外连接就是取两个表的并集。下例中表df1中学号为100、101、102、103，表df2中学号为100、101、102、104，因此外连接取并集以后的结果中应包含学号为100、101、102、103、104的信息。"
      ]
    },
    {
      "cell_type": "code",
      "metadata": {
        "colab": {
          "base_uri": "https://localhost:8080/",
          "height": 205
        },
        "id": "gZkEYoMZJiew",
        "outputId": "2aa9ccb4-538c-4924-e25a-dff70ff3ee49"
      },
      "source": [
        "pd.merge(df_1, df_2, on = '学号', how = 'outer')"
      ],
      "execution_count": 65,
      "outputs": [
        {
          "output_type": "execute_result",
          "data": {
            "text/html": [
              "<div>\n",
              "<style scoped>\n",
              "    .dataframe tbody tr th:only-of-type {\n",
              "        vertical-align: middle;\n",
              "    }\n",
              "\n",
              "    .dataframe tbody tr th {\n",
              "        vertical-align: top;\n",
              "    }\n",
              "\n",
              "    .dataframe thead th {\n",
              "        text-align: right;\n",
              "    }\n",
              "</style>\n",
              "<table border=\"1\" class=\"dataframe\">\n",
              "  <thead>\n",
              "    <tr style=\"text-align: right;\">\n",
              "      <th></th>\n",
              "      <th>名次</th>\n",
              "      <th>姓名_x</th>\n",
              "      <th>学号</th>\n",
              "      <th>成绩</th>\n",
              "      <th>姓名_y</th>\n",
              "      <th>班级</th>\n",
              "    </tr>\n",
              "  </thead>\n",
              "  <tbody>\n",
              "    <tr>\n",
              "      <th>0</th>\n",
              "      <td>1.0</td>\n",
              "      <td>小张</td>\n",
              "      <td>100</td>\n",
              "      <td>650.0</td>\n",
              "      <td>小张</td>\n",
              "      <td>1班</td>\n",
              "    </tr>\n",
              "    <tr>\n",
              "      <th>1</th>\n",
              "      <td>2.0</td>\n",
              "      <td>小工</td>\n",
              "      <td>101</td>\n",
              "      <td>600.0</td>\n",
              "      <td>小工</td>\n",
              "      <td>1班</td>\n",
              "    </tr>\n",
              "    <tr>\n",
              "      <th>2</th>\n",
              "      <td>3.0</td>\n",
              "      <td>小李</td>\n",
              "      <td>102</td>\n",
              "      <td>578.0</td>\n",
              "      <td>小李</td>\n",
              "      <td>2班</td>\n",
              "    </tr>\n",
              "    <tr>\n",
              "      <th>3</th>\n",
              "      <td>4.0</td>\n",
              "      <td>小赵</td>\n",
              "      <td>103</td>\n",
              "      <td>550.0</td>\n",
              "      <td>NaN</td>\n",
              "      <td>NaN</td>\n",
              "    </tr>\n",
              "    <tr>\n",
              "      <th>4</th>\n",
              "      <td>NaN</td>\n",
              "      <td>NaN</td>\n",
              "      <td>104</td>\n",
              "      <td>NaN</td>\n",
              "      <td>小钱</td>\n",
              "      <td>2班</td>\n",
              "    </tr>\n",
              "  </tbody>\n",
              "</table>\n",
              "</div>"
            ],
            "text/plain": [
              "    名次 姓名_x   学号     成绩 姓名_y   班级\n",
              "0  1.0   小张  100  650.0   小张   1班\n",
              "1  2.0   小工  101  600.0   小工   1班\n",
              "2  3.0   小李  102  578.0   小李   2班\n",
              "3  4.0   小赵  103  550.0  NaN  NaN\n",
              "4  NaN  NaN  104    NaN   小钱   2班"
            ]
          },
          "metadata": {},
          "execution_count": 65
        }
      ]
    },
    {
      "cell_type": "markdown",
      "metadata": {
        "id": "ZqnsXrAOHNNR"
      },
      "source": [
        "## 4.重复列名处理\n",
        "\n",
        "- 两个表在进行连接时，经常会遇到列名重复的情况。\n",
        "- 在遇到列名重复时，pd.merge()方法会自动给这些重复列名添加后缀_x、_y或_z，而且会根据表中已有的列名自行调整\n",
        "- 当然我们也可以自定义重复的列名，只需要修改参数 suffixes的值即可，默认为[\"_x\",\"_y\"]。"
      ]
    },
    {
      "cell_type": "code",
      "metadata": {
        "colab": {
          "base_uri": "https://localhost:8080/",
          "height": 205
        },
        "id": "ctn_Vz8BJ0Cm",
        "outputId": "9169975f-a61a-40c3-e206-b63d1856e20f"
      },
      "source": [
        "pd.merge(df_1, df_2, on = \"学号\", how = \"outer\", suffixes=[\"_L\", \"_R\"])"
      ],
      "execution_count": 66,
      "outputs": [
        {
          "output_type": "execute_result",
          "data": {
            "text/html": [
              "<div>\n",
              "<style scoped>\n",
              "    .dataframe tbody tr th:only-of-type {\n",
              "        vertical-align: middle;\n",
              "    }\n",
              "\n",
              "    .dataframe tbody tr th {\n",
              "        vertical-align: top;\n",
              "    }\n",
              "\n",
              "    .dataframe thead th {\n",
              "        text-align: right;\n",
              "    }\n",
              "</style>\n",
              "<table border=\"1\" class=\"dataframe\">\n",
              "  <thead>\n",
              "    <tr style=\"text-align: right;\">\n",
              "      <th></th>\n",
              "      <th>名次</th>\n",
              "      <th>姓名_L</th>\n",
              "      <th>学号</th>\n",
              "      <th>成绩</th>\n",
              "      <th>姓名_R</th>\n",
              "      <th>班级</th>\n",
              "    </tr>\n",
              "  </thead>\n",
              "  <tbody>\n",
              "    <tr>\n",
              "      <th>0</th>\n",
              "      <td>1.0</td>\n",
              "      <td>小张</td>\n",
              "      <td>100</td>\n",
              "      <td>650.0</td>\n",
              "      <td>小张</td>\n",
              "      <td>1班</td>\n",
              "    </tr>\n",
              "    <tr>\n",
              "      <th>1</th>\n",
              "      <td>2.0</td>\n",
              "      <td>小工</td>\n",
              "      <td>101</td>\n",
              "      <td>600.0</td>\n",
              "      <td>小工</td>\n",
              "      <td>1班</td>\n",
              "    </tr>\n",
              "    <tr>\n",
              "      <th>2</th>\n",
              "      <td>3.0</td>\n",
              "      <td>小李</td>\n",
              "      <td>102</td>\n",
              "      <td>578.0</td>\n",
              "      <td>小李</td>\n",
              "      <td>2班</td>\n",
              "    </tr>\n",
              "    <tr>\n",
              "      <th>3</th>\n",
              "      <td>4.0</td>\n",
              "      <td>小赵</td>\n",
              "      <td>103</td>\n",
              "      <td>550.0</td>\n",
              "      <td>NaN</td>\n",
              "      <td>NaN</td>\n",
              "    </tr>\n",
              "    <tr>\n",
              "      <th>4</th>\n",
              "      <td>NaN</td>\n",
              "      <td>NaN</td>\n",
              "      <td>104</td>\n",
              "      <td>NaN</td>\n",
              "      <td>小钱</td>\n",
              "      <td>2班</td>\n",
              "    </tr>\n",
              "  </tbody>\n",
              "</table>\n",
              "</div>"
            ],
            "text/plain": [
              "    名次 姓名_L   学号     成绩 姓名_R   班级\n",
              "0  1.0   小张  100  650.0   小张   1班\n",
              "1  2.0   小工  101  600.0   小工   1班\n",
              "2  3.0   小李  102  578.0   小李   2班\n",
              "3  4.0   小赵  103  550.0  NaN  NaN\n",
              "4  NaN  NaN  104    NaN   小钱   2班"
            ]
          },
          "metadata": {},
          "execution_count": 66
        }
      ]
    },
    {
      "cell_type": "markdown",
      "metadata": {
        "id": "FhMhwQlsHRvw"
      },
      "source": [
        "# 表的纵向拼接\n",
        "- 表的纵向拼接是与横向拼接相对应的，横向拼接是两个表依据公共列在水平方向上进行拼接\n",
        "- 而纵向拼接是在垂直方向进行拼接。\n",
        "- 一般的应用场景就是将分离的若干个结构相同的数据表合并成一个数据表\n",
        "- 在Python中想纵向合并两个表，需要用到concat()方法。"
      ]
    },
    {
      "cell_type": "markdown",
      "metadata": {
        "id": "_T0DhbS5HX6K"
      },
      "source": [
        "## 1.普通合并\n",
        "\n",
        "- 普通合并就是直接将待合并表的表名以列表的形式传给pd.concat()方法"
      ]
    },
    {
      "cell_type": "code",
      "metadata": {
        "colab": {
          "base_uri": "https://localhost:8080/"
        },
        "id": "SJ77Mx0CKo2G",
        "outputId": "4300855f-b2e3-45e4-d644-0d3556293b9f"
      },
      "source": [
        "df_3 = pd.DataFrame([['张三','一班'],['张是','一班'],['张人','一班']],\n",
        "                    columns=['姓名','班级'])\n",
        "df_4 = pd.DataFrame([['啊三','二班'],['我是','二班'],['上人','二班']],\n",
        "                    columns=['姓名','班级'])\n",
        "print(df_3)\n",
        "print(df_4)"
      ],
      "execution_count": 67,
      "outputs": [
        {
          "output_type": "stream",
          "name": "stdout",
          "text": [
            "   姓名  班级\n",
            "0  张三  一班\n",
            "1  张是  一班\n",
            "2  张人  一班\n",
            "   姓名  班级\n",
            "0  啊三  二班\n",
            "1  我是  二班\n",
            "2  上人  二班\n"
          ]
        }
      ]
    },
    {
      "cell_type": "code",
      "metadata": {
        "colab": {
          "base_uri": "https://localhost:8080/",
          "height": 236
        },
        "id": "N2TIa5-4LM5o",
        "outputId": "ef119fdb-9fcd-4247-a064-bda0e2a82479"
      },
      "source": [
        "pd.concat([df_3, df_4])"
      ],
      "execution_count": 69,
      "outputs": [
        {
          "output_type": "execute_result",
          "data": {
            "text/html": [
              "<div>\n",
              "<style scoped>\n",
              "    .dataframe tbody tr th:only-of-type {\n",
              "        vertical-align: middle;\n",
              "    }\n",
              "\n",
              "    .dataframe tbody tr th {\n",
              "        vertical-align: top;\n",
              "    }\n",
              "\n",
              "    .dataframe thead th {\n",
              "        text-align: right;\n",
              "    }\n",
              "</style>\n",
              "<table border=\"1\" class=\"dataframe\">\n",
              "  <thead>\n",
              "    <tr style=\"text-align: right;\">\n",
              "      <th></th>\n",
              "      <th>姓名</th>\n",
              "      <th>班级</th>\n",
              "    </tr>\n",
              "  </thead>\n",
              "  <tbody>\n",
              "    <tr>\n",
              "      <th>0</th>\n",
              "      <td>张三</td>\n",
              "      <td>一班</td>\n",
              "    </tr>\n",
              "    <tr>\n",
              "      <th>1</th>\n",
              "      <td>张是</td>\n",
              "      <td>一班</td>\n",
              "    </tr>\n",
              "    <tr>\n",
              "      <th>2</th>\n",
              "      <td>张人</td>\n",
              "      <td>一班</td>\n",
              "    </tr>\n",
              "    <tr>\n",
              "      <th>0</th>\n",
              "      <td>啊三</td>\n",
              "      <td>二班</td>\n",
              "    </tr>\n",
              "    <tr>\n",
              "      <th>1</th>\n",
              "      <td>我是</td>\n",
              "      <td>二班</td>\n",
              "    </tr>\n",
              "    <tr>\n",
              "      <th>2</th>\n",
              "      <td>上人</td>\n",
              "      <td>二班</td>\n",
              "    </tr>\n",
              "  </tbody>\n",
              "</table>\n",
              "</div>"
            ],
            "text/plain": [
              "   姓名  班级\n",
              "0  张三  一班\n",
              "1  张是  一班\n",
              "2  张人  一班\n",
              "0  啊三  二班\n",
              "1  我是  二班\n",
              "2  上人  二班"
            ]
          },
          "metadata": {},
          "execution_count": 69
        }
      ]
    },
    {
      "cell_type": "markdown",
      "metadata": {
        "id": "ttGLAjpOHak5"
      },
      "source": [
        "## 2.索引设置\n",
        "\n",
        "- pd.concat()方法默认保留原表的索引\n",
        "- 我们可以通过设置参数ignore_index的值，让其等于True，这样就会生成一组新的索引，而不保留原表的索引"
      ]
    },
    {
      "cell_type": "code",
      "metadata": {
        "colab": {
          "base_uri": "https://localhost:8080/",
          "height": 236
        },
        "id": "nx6Es-jHLsit",
        "outputId": "10d4eb1b-1231-428f-8704-d0ce2afd116a"
      },
      "source": [
        "pd.concat([df_3, df_4], ignore_index=True)"
      ],
      "execution_count": 70,
      "outputs": [
        {
          "output_type": "execute_result",
          "data": {
            "text/html": [
              "<div>\n",
              "<style scoped>\n",
              "    .dataframe tbody tr th:only-of-type {\n",
              "        vertical-align: middle;\n",
              "    }\n",
              "\n",
              "    .dataframe tbody tr th {\n",
              "        vertical-align: top;\n",
              "    }\n",
              "\n",
              "    .dataframe thead th {\n",
              "        text-align: right;\n",
              "    }\n",
              "</style>\n",
              "<table border=\"1\" class=\"dataframe\">\n",
              "  <thead>\n",
              "    <tr style=\"text-align: right;\">\n",
              "      <th></th>\n",
              "      <th>姓名</th>\n",
              "      <th>班级</th>\n",
              "    </tr>\n",
              "  </thead>\n",
              "  <tbody>\n",
              "    <tr>\n",
              "      <th>0</th>\n",
              "      <td>张三</td>\n",
              "      <td>一班</td>\n",
              "    </tr>\n",
              "    <tr>\n",
              "      <th>1</th>\n",
              "      <td>张是</td>\n",
              "      <td>一班</td>\n",
              "    </tr>\n",
              "    <tr>\n",
              "      <th>2</th>\n",
              "      <td>张人</td>\n",
              "      <td>一班</td>\n",
              "    </tr>\n",
              "    <tr>\n",
              "      <th>3</th>\n",
              "      <td>啊三</td>\n",
              "      <td>二班</td>\n",
              "    </tr>\n",
              "    <tr>\n",
              "      <th>4</th>\n",
              "      <td>我是</td>\n",
              "      <td>二班</td>\n",
              "    </tr>\n",
              "    <tr>\n",
              "      <th>5</th>\n",
              "      <td>上人</td>\n",
              "      <td>二班</td>\n",
              "    </tr>\n",
              "  </tbody>\n",
              "</table>\n",
              "</div>"
            ],
            "text/plain": [
              "   姓名  班级\n",
              "0  张三  一班\n",
              "1  张是  一班\n",
              "2  张人  一班\n",
              "3  啊三  二班\n",
              "4  我是  二班\n",
              "5  上人  二班"
            ]
          },
          "metadata": {},
          "execution_count": 70
        }
      ]
    },
    {
      "cell_type": "markdown",
      "metadata": {
        "id": "FkufwPY1HdTS"
      },
      "source": [
        "## 3.重叠数据合并\n",
        "\n",
        "- 前面的数据都是比较干净的数据，现实中难免会有一些错误数据，比如一班的花名册里写进了二班的人，而这个人在二班的花名册里也出现了，这个时候如果直接合并两个表，肯定会有重复值\n"
      ]
    },
    {
      "cell_type": "code",
      "metadata": {
        "colab": {
          "base_uri": "https://localhost:8080/",
          "height": 143
        },
        "id": "QSdrZRSBL8cC",
        "outputId": "b9f2ec17-7d95-4dde-a232-6e96acc4f12c"
      },
      "source": [
        "df_5 = pd.DataFrame([['啊三','二班'],['张三','一班'],['上人','二班']],\n",
        "                    columns=['姓名','班级'])\n",
        "df_5"
      ],
      "execution_count": 75,
      "outputs": [
        {
          "output_type": "execute_result",
          "data": {
            "text/html": [
              "<div>\n",
              "<style scoped>\n",
              "    .dataframe tbody tr th:only-of-type {\n",
              "        vertical-align: middle;\n",
              "    }\n",
              "\n",
              "    .dataframe tbody tr th {\n",
              "        vertical-align: top;\n",
              "    }\n",
              "\n",
              "    .dataframe thead th {\n",
              "        text-align: right;\n",
              "    }\n",
              "</style>\n",
              "<table border=\"1\" class=\"dataframe\">\n",
              "  <thead>\n",
              "    <tr style=\"text-align: right;\">\n",
              "      <th></th>\n",
              "      <th>姓名</th>\n",
              "      <th>班级</th>\n",
              "    </tr>\n",
              "  </thead>\n",
              "  <tbody>\n",
              "    <tr>\n",
              "      <th>0</th>\n",
              "      <td>啊三</td>\n",
              "      <td>二班</td>\n",
              "    </tr>\n",
              "    <tr>\n",
              "      <th>1</th>\n",
              "      <td>张三</td>\n",
              "      <td>一班</td>\n",
              "    </tr>\n",
              "    <tr>\n",
              "      <th>2</th>\n",
              "      <td>上人</td>\n",
              "      <td>二班</td>\n",
              "    </tr>\n",
              "  </tbody>\n",
              "</table>\n",
              "</div>"
            ],
            "text/plain": [
              "   姓名  班级\n",
              "0  啊三  二班\n",
              "1  张三  一班\n",
              "2  上人  二班"
            ]
          },
          "metadata": {},
          "execution_count": 75
        }
      ]
    },
    {
      "cell_type": "code",
      "metadata": {
        "colab": {
          "base_uri": "https://localhost:8080/",
          "height": 143
        },
        "id": "l6cL86iRMCs1",
        "outputId": "dbfb5479-8fe8-475e-b1e9-7e8747eeb218"
      },
      "source": [
        "df_3"
      ],
      "execution_count": 76,
      "outputs": [
        {
          "output_type": "execute_result",
          "data": {
            "text/html": [
              "<div>\n",
              "<style scoped>\n",
              "    .dataframe tbody tr th:only-of-type {\n",
              "        vertical-align: middle;\n",
              "    }\n",
              "\n",
              "    .dataframe tbody tr th {\n",
              "        vertical-align: top;\n",
              "    }\n",
              "\n",
              "    .dataframe thead th {\n",
              "        text-align: right;\n",
              "    }\n",
              "</style>\n",
              "<table border=\"1\" class=\"dataframe\">\n",
              "  <thead>\n",
              "    <tr style=\"text-align: right;\">\n",
              "      <th></th>\n",
              "      <th>姓名</th>\n",
              "      <th>班级</th>\n",
              "    </tr>\n",
              "  </thead>\n",
              "  <tbody>\n",
              "    <tr>\n",
              "      <th>0</th>\n",
              "      <td>张三</td>\n",
              "      <td>一班</td>\n",
              "    </tr>\n",
              "    <tr>\n",
              "      <th>1</th>\n",
              "      <td>张是</td>\n",
              "      <td>一班</td>\n",
              "    </tr>\n",
              "    <tr>\n",
              "      <th>2</th>\n",
              "      <td>张人</td>\n",
              "      <td>一班</td>\n",
              "    </tr>\n",
              "  </tbody>\n",
              "</table>\n",
              "</div>"
            ],
            "text/plain": [
              "   姓名  班级\n",
              "0  张三  一班\n",
              "1  张是  一班\n",
              "2  张人  一班"
            ]
          },
          "metadata": {},
          "execution_count": 76
        }
      ]
    },
    {
      "cell_type": "code",
      "metadata": {
        "colab": {
          "base_uri": "https://localhost:8080/",
          "height": 236
        },
        "id": "fKEoxgteMIdq",
        "outputId": "33d98a02-4b8c-45df-c3ae-63beff8abc8c"
      },
      "source": [
        "pd.concat([df_3, df_5], ignore_index=True)"
      ],
      "execution_count": 77,
      "outputs": [
        {
          "output_type": "execute_result",
          "data": {
            "text/html": [
              "<div>\n",
              "<style scoped>\n",
              "    .dataframe tbody tr th:only-of-type {\n",
              "        vertical-align: middle;\n",
              "    }\n",
              "\n",
              "    .dataframe tbody tr th {\n",
              "        vertical-align: top;\n",
              "    }\n",
              "\n",
              "    .dataframe thead th {\n",
              "        text-align: right;\n",
              "    }\n",
              "</style>\n",
              "<table border=\"1\" class=\"dataframe\">\n",
              "  <thead>\n",
              "    <tr style=\"text-align: right;\">\n",
              "      <th></th>\n",
              "      <th>姓名</th>\n",
              "      <th>班级</th>\n",
              "    </tr>\n",
              "  </thead>\n",
              "  <tbody>\n",
              "    <tr>\n",
              "      <th>0</th>\n",
              "      <td>张三</td>\n",
              "      <td>一班</td>\n",
              "    </tr>\n",
              "    <tr>\n",
              "      <th>1</th>\n",
              "      <td>张是</td>\n",
              "      <td>一班</td>\n",
              "    </tr>\n",
              "    <tr>\n",
              "      <th>2</th>\n",
              "      <td>张人</td>\n",
              "      <td>一班</td>\n",
              "    </tr>\n",
              "    <tr>\n",
              "      <th>3</th>\n",
              "      <td>啊三</td>\n",
              "      <td>二班</td>\n",
              "    </tr>\n",
              "    <tr>\n",
              "      <th>4</th>\n",
              "      <td>张三</td>\n",
              "      <td>一班</td>\n",
              "    </tr>\n",
              "    <tr>\n",
              "      <th>5</th>\n",
              "      <td>上人</td>\n",
              "      <td>二班</td>\n",
              "    </tr>\n",
              "  </tbody>\n",
              "</table>\n",
              "</div>"
            ],
            "text/plain": [
              "   姓名  班级\n",
              "0  张三  一班\n",
              "1  张是  一班\n",
              "2  张人  一班\n",
              "3  啊三  二班\n",
              "4  张三  一班\n",
              "5  上人  二班"
            ]
          },
          "metadata": {},
          "execution_count": 77
        }
      ]
    },
    {
      "cell_type": "markdown",
      "metadata": {
        "id": "dXbthHCqMNBB"
      },
      "source": [
        "去掉张三"
      ]
    },
    {
      "cell_type": "code",
      "metadata": {
        "colab": {
          "base_uri": "https://localhost:8080/",
          "height": 205
        },
        "id": "NIggUDLTMO3_",
        "outputId": "0f296e5b-bb1c-4420-ed08-5178bdd5faca"
      },
      "source": [
        "pd.concat([df_3, df_5], ignore_index=True).drop_duplicates()"
      ],
      "execution_count": 79,
      "outputs": [
        {
          "output_type": "execute_result",
          "data": {
            "text/html": [
              "<div>\n",
              "<style scoped>\n",
              "    .dataframe tbody tr th:only-of-type {\n",
              "        vertical-align: middle;\n",
              "    }\n",
              "\n",
              "    .dataframe tbody tr th {\n",
              "        vertical-align: top;\n",
              "    }\n",
              "\n",
              "    .dataframe thead th {\n",
              "        text-align: right;\n",
              "    }\n",
              "</style>\n",
              "<table border=\"1\" class=\"dataframe\">\n",
              "  <thead>\n",
              "    <tr style=\"text-align: right;\">\n",
              "      <th></th>\n",
              "      <th>姓名</th>\n",
              "      <th>班级</th>\n",
              "    </tr>\n",
              "  </thead>\n",
              "  <tbody>\n",
              "    <tr>\n",
              "      <th>0</th>\n",
              "      <td>张三</td>\n",
              "      <td>一班</td>\n",
              "    </tr>\n",
              "    <tr>\n",
              "      <th>1</th>\n",
              "      <td>张是</td>\n",
              "      <td>一班</td>\n",
              "    </tr>\n",
              "    <tr>\n",
              "      <th>2</th>\n",
              "      <td>张人</td>\n",
              "      <td>一班</td>\n",
              "    </tr>\n",
              "    <tr>\n",
              "      <th>3</th>\n",
              "      <td>啊三</td>\n",
              "      <td>二班</td>\n",
              "    </tr>\n",
              "    <tr>\n",
              "      <th>5</th>\n",
              "      <td>上人</td>\n",
              "      <td>二班</td>\n",
              "    </tr>\n",
              "  </tbody>\n",
              "</table>\n",
              "</div>"
            ],
            "text/plain": [
              "   姓名  班级\n",
              "0  张三  一班\n",
              "1  张是  一班\n",
              "2  张人  一班\n",
              "3  啊三  二班\n",
              "5  上人  二班"
            ]
          },
          "metadata": {},
          "execution_count": 79
        }
      ]
    }
  ]
}