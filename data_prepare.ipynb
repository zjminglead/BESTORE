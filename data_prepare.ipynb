{
  "nbformat": 4,
  "nbformat_minor": 0,
  "metadata": {
    "colab": {
      "name": "data_prepare.ipynb",
      "provenance": [],
      "collapsed_sections": [],
      "toc_visible": true,
      "authorship_tag": "ABX9TyMOdezIEmox+3IQXLpPheDi",
      "include_colab_link": true
    },
    "kernelspec": {
      "name": "python3",
      "display_name": "Python 3"
    },
    "language_info": {
      "name": "python"
    }
  },
  "cells": [
    {
      "cell_type": "markdown",
      "metadata": {
        "id": "view-in-github",
        "colab_type": "text"
      },
      "source": [
        "<a href=\"https://colab.research.google.com/github/zjminglead/BESTORE/blob/master/data_prepare.ipynb\" target=\"_parent\"><img src=\"https://colab.research.google.com/assets/colab-badge.svg\" alt=\"Open In Colab\"/></a>"
      ]
    },
    {
      "cell_type": "code",
      "metadata": {
        "colab": {
          "base_uri": "https://localhost:8080/"
        },
        "id": "OmewoSyCYu4z",
        "outputId": "400d0d90-63a2-404e-aaa6-dac1b03d0164"
      },
      "source": [
        "from google.colab import drive\n",
        "drive.mount('/content/drive/')\n",
        "!pwd"
      ],
      "execution_count": 6,
      "outputs": [
        {
          "output_type": "stream",
          "name": "stdout",
          "text": [
            "Drive already mounted at /content/drive/; to attempt to forcibly remount, call drive.mount(\"/content/drive/\", force_remount=True).\n",
            "/content\n"
          ]
        }
      ]
    },
    {
      "cell_type": "markdown",
      "metadata": {
        "id": "ZP3qzhpFIeuu"
      },
      "source": [
        "# 设置索引\n",
        "\n",
        "* 设置索引的目的是便于我们查找数据。\n",
        "* 在Excel中，一般都是有索引的，如果没索引数据看起来会很乱，当然也会有例外，数据表就是没有索引的。这个时候插入一行一列就是为表添加索引。\n",
        "* 在Python中，如果表没有索引，会默认用从0开始的自然数做索引"
      ]
    },
    {
      "cell_type": "markdown",
      "metadata": {
        "id": "6upXi5AwIktc"
      },
      "source": [
        "## 1.为无索引表添加索引\n",
        "\n",
        "* 通过给表df的columns参数传入列索引值\n",
        "\n",
        "* index参数传入行索引值"
      ]
    },
    {
      "cell_type": "code",
      "metadata": {
        "colab": {
          "base_uri": "https://localhost:8080/"
        },
        "id": "ppSbMqLoJDBG",
        "outputId": "edd3088a-1db2-4bf8-b4ff-0fe40591b338"
      },
      "source": [
        "import pandas as pd\n",
        "df = pd.read_csv('/content/drive/MyDrive/BESTROE/dataset/Mall_Customers_NAN.csv')\n",
        "print(df.head())\n",
        "\n",
        "# 为表添加列索引\n",
        "df.columns = ['客户ID', '性别', '年龄', '年收入', '消费等级']\n",
        "print(df.head())\n",
        "\n",
        "# 为表添加行索引\n",
        "# print((df.index).dtype)\n",
        "df.index = range(1, len(df) + 1, 1)\n",
        "print(df.head())"
      ],
      "execution_count": 40,
      "outputs": [
        {
          "output_type": "stream",
          "name": "stdout",
          "text": [
            "   CustomerID   Genre   Age  Annual_Income_(k$)  Spending_Score\n",
            "0         1.0    Male  19.0                15.0            39.0\n",
            "1         2.0    Male  21.0                15.0            81.0\n",
            "2         3.0  Female  20.0                16.0             6.0\n",
            "3         4.0  Female  23.0                16.0            77.0\n",
            "4         5.0  Female  31.0                17.0            40.0\n",
            "   客户ID      性别    年龄   年收入  消费等级\n",
            "0   1.0    Male  19.0  15.0  39.0\n",
            "1   2.0    Male  21.0  15.0  81.0\n",
            "2   3.0  Female  20.0  16.0   6.0\n",
            "3   4.0  Female  23.0  16.0  77.0\n",
            "4   5.0  Female  31.0  17.0  40.0\n",
            "   客户ID      性别    年龄   年收入  消费等级\n",
            "1   1.0    Male  19.0  15.0  39.0\n",
            "2   2.0    Male  21.0  15.0  81.0\n",
            "3   3.0  Female  20.0  16.0   6.0\n",
            "4   4.0  Female  23.0  16.0  77.0\n",
            "5   5.0  Female  31.0  17.0  40.0\n"
          ]
        }
      ]
    },
    {
      "cell_type": "markdown",
      "metadata": {
        "id": "ZHoSc9_dNYzV"
      },
      "source": [
        "## 2.重新设置索引\n",
        "\n",
        "- 重新设置索引，一般指行索引的设置。有的表虽然有索引，但不是我们想要的索引，比如现在有一个表是把序号作为行索引，而我们想要把订单编号作为行索引\n",
        "\n",
        "- 在Excel中重新设置行索引比较简单，你想让哪一列做行索引，直接把这一列拖到第一列的位置即可。\n",
        "\n",
        "- 在Python中可以利用set_index()方法重新设置索引列，在set_index()里指明要用作行索引的列的名称即可。\n",
        "\n",
        "- 在重新设置索引时，还可以给 set_index()方法传入两个或多个列名，我们把这种一个表中用多列来做索引的方式称为层次化索引\n",
        "\n",
        "- 层次化索引一般用在某一列中含有多个重复值的情况下。\n",
        "\n",
        "\n"
      ]
    },
    {
      "cell_type": "code",
      "metadata": {
        "colab": {
          "base_uri": "https://localhost:8080/"
        },
        "id": "u6yTa-TaQTE2",
        "outputId": "9de25a51-526e-47b8-e4f0-6deca10c851c"
      },
      "source": [
        "import pandas as pd\n",
        "df = pd.read_csv('/content/drive/MyDrive/BESTROE/dataset/Mall_Customers_NAN.csv')\n",
        "print(df.head())\n",
        "\n",
        "# 为表添加列索引\n",
        "df.columns = ['客户ID', '性别', '年龄', '年收入', '消费等级']\n",
        "\n",
        "# 删除NAN值\n",
        "df = df.dropna()\n",
        "\n",
        "# 转换‘客户ID'的数据类型\n",
        "df[\"客户ID\"] = df[\"客户ID\"].astype(np.int64)\n",
        "print(df[\"客户ID\"].dtype)\n",
        "df = df.set_index(\"客户ID\")\n",
        "\n",
        "print(df.head())\n",
        "# print(df1.info())\n",
        "# 加完索引保存到excel\n",
        "df.to_excel('/content/drive/MyDrive/BESTROE/dataset/Mall_Customers_index.xlsx', sheet_name='Mall_Customers_index')"
      ],
      "execution_count": 71,
      "outputs": [
        {
          "output_type": "stream",
          "name": "stdout",
          "text": [
            "   CustomerID   Genre   Age  Annual_Income_(k$)  Spending_Score\n",
            "0         1.0    Male  19.0                15.0            39.0\n",
            "1         2.0    Male  21.0                15.0            81.0\n",
            "2         3.0  Female  20.0                16.0             6.0\n",
            "3         4.0  Female  23.0                16.0            77.0\n",
            "4         5.0  Female  31.0                17.0            40.0\n",
            "int64\n",
            "          性别    年龄   年收入  消费等级\n",
            "客户ID                          \n",
            "1       Male  19.0  15.0  39.0\n",
            "2       Male  21.0  15.0  81.0\n",
            "3     Female  20.0  16.0   6.0\n",
            "4     Female  23.0  16.0  77.0\n",
            "5     Female  31.0  17.0  40.0\n"
          ]
        }
      ]
    },
    {
      "cell_type": "markdown",
      "metadata": {
        "id": "TGbehe4yXlaG"
      },
      "source": [
        "## 3.重命名索引\n",
        "\n",
        "- 重命名索引是针对现有索引名进行修改的，就是改字段名。\n",
        "\n",
        "- Excel实现：\n",
        "- 在Excel中重命名索引比较简单，就是直接修改字段名。\n",
        "- Python实现：\n",
        "- 在Python中重命名索引，我们利用的是rename()方法，在rename后的括号里指明要修改的行索引及列索引名。\n"
      ]
    },
    {
      "cell_type": "code",
      "metadata": {
        "colab": {
          "base_uri": "https://localhost:8080/"
        },
        "id": "7rPIPouqZETk",
        "outputId": "7cc259d8-b3f9-4f90-cee7-9a93dbfaa809"
      },
      "source": [
        "import pandas as pd\n",
        "df = pd.read_csv('/content/drive/MyDrive/BESTROE/dataset/Mall_Customers_NAN.csv')\n",
        "# 重命名列索引\n",
        "print(df.columns)\n",
        "'客户ID', '性别', '年龄', '年收入', '消费等级'\n",
        "df = df.rename(columns = {'CustomerID': '客户ID', 'Genre':'性别', \n",
        "                     'Age':'年龄', 'Annual_Income_(k$)':'年收入', 'Spending_Score':'消费等级'})\n",
        "print(df.columns)"
      ],
      "execution_count": 70,
      "outputs": [
        {
          "output_type": "stream",
          "name": "stdout",
          "text": [
            "Index(['CustomerID', 'Genre', 'Age', 'Annual_Income_(k$)', 'Spending_Score'], dtype='object')\n",
            "Index(['客户ID', '性别', '年龄', '年收入', '消费等级'], dtype='object')\n"
          ]
        }
      ]
    },
    {
      "cell_type": "markdown",
      "metadata": {
        "id": "tIJhVt9kkQ32"
      },
      "source": [
        "## 4.重置索引\n",
        "- 重置索引主要用在层次化索引表中\n",
        "- 重置索引是将索引列当作一个columns进行返回。\n",
        "- 在下图左侧的表中，Z1、Z2是一个层次化索引，经过重置索引以后，Z1、Z2这两个索引以columns的形式返回，变为常规的两列。\n",
        "![resert_index.png](data:image/png;base64,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)"
      ]
    },
    {
      "cell_type": "markdown",
      "metadata": {
        "id": "VgKnimGMkwfF"
      },
      "source": [
        "在Python利用的是reset_index()方法，reset_index()方法常用的参数如下：\n",
        "\n",
        "\n",
        "\n",
        "```\n",
        "reset_index(level=None, drop=False, inplace=False)\n",
        "```\n",
        "- level参数用来指定要将层次化索引的第几级别转化为columns\n",
        "\n",
        "- 第一个索引为0级，第二个索引为1级，默认为全部索引，即默认把索引全部转化为columns。\n",
        "\n",
        "- drop参数用来指定是否将原索引删掉，即不作为一个新的columns，默认为False，即不删除原索引。\n",
        "\n",
        "- inplace参数用来指定是否修改原数据表。inplace：bool, default False。修改数据帧（不要创建新对象）。\n",
        "\n",
        "- reset_index()方法常用于数据分组、数据透视表中。\n"
      ]
    },
    {
      "cell_type": "code",
      "metadata": {
        "colab": {
          "base_uri": "https://localhost:8080/",
          "height": 347
        },
        "id": "YzvlBhszllcJ",
        "outputId": "0054888f-8642-4063-e0b9-126bfb3498d5"
      },
      "source": [
        "import pandas as pd\n",
        "import numpy as np\n",
        "df = pd.DataFrame([('bird', 389.0),\n",
        "                   ('bird', 24.0),\n",
        "                   ('mammal', 80.5),\n",
        "                   ('mammal', np.nan)],\n",
        "                  index=['falcon', 'parrot', 'lion', 'monkey'],\n",
        "                  columns=('class', 'max_speed'))\n",
        "print(df)\n",
        "\n",
        "# 重置索引时，将旧索引添加为列，并使用新的顺序索引\n",
        "# df.reset_index(inplace=True)\n",
        "df1 = df.reset_index()\n",
        "print(df1)\n",
        "\n",
        "# 使用drop参数来避免将旧索引添加为列\n",
        "df.reset_index(drop=True, inplace=False)\n"
      ],
      "execution_count": 76,
      "outputs": [
        {
          "output_type": "stream",
          "name": "stdout",
          "text": [
            "         class  max_speed\n",
            "falcon    bird      389.0\n",
            "parrot    bird       24.0\n",
            "lion    mammal       80.5\n",
            "monkey  mammal        NaN\n",
            "    index   class  max_speed\n",
            "0  falcon    bird      389.0\n",
            "1  parrot    bird       24.0\n",
            "2    lion  mammal       80.5\n",
            "3  monkey  mammal        NaN\n"
          ]
        },
        {
          "output_type": "execute_result",
          "data": {
            "text/html": [
              "<div>\n",
              "<style scoped>\n",
              "    .dataframe tbody tr th:only-of-type {\n",
              "        vertical-align: middle;\n",
              "    }\n",
              "\n",
              "    .dataframe tbody tr th {\n",
              "        vertical-align: top;\n",
              "    }\n",
              "\n",
              "    .dataframe thead th {\n",
              "        text-align: right;\n",
              "    }\n",
              "</style>\n",
              "<table border=\"1\" class=\"dataframe\">\n",
              "  <thead>\n",
              "    <tr style=\"text-align: right;\">\n",
              "      <th></th>\n",
              "      <th>class</th>\n",
              "      <th>max_speed</th>\n",
              "    </tr>\n",
              "  </thead>\n",
              "  <tbody>\n",
              "    <tr>\n",
              "      <th>0</th>\n",
              "      <td>bird</td>\n",
              "      <td>389.0</td>\n",
              "    </tr>\n",
              "    <tr>\n",
              "      <th>1</th>\n",
              "      <td>bird</td>\n",
              "      <td>24.0</td>\n",
              "    </tr>\n",
              "    <tr>\n",
              "      <th>2</th>\n",
              "      <td>mammal</td>\n",
              "      <td>80.5</td>\n",
              "    </tr>\n",
              "    <tr>\n",
              "      <th>3</th>\n",
              "      <td>mammal</td>\n",
              "      <td>NaN</td>\n",
              "    </tr>\n",
              "  </tbody>\n",
              "</table>\n",
              "</div>"
            ],
            "text/plain": [
              "    class  max_speed\n",
              "0    bird      389.0\n",
              "1    bird       24.0\n",
              "2  mammal       80.5\n",
              "3  mammal        NaN"
            ]
          },
          "metadata": {},
          "execution_count": 76
        }
      ]
    },
    {
      "cell_type": "markdown",
      "metadata": {
        "id": "hPrhawujZydO"
      },
      "source": [
        "# 缺失值处理\n",
        "\n",
        "缺失值就是由某些原因导致部分数据为空，对于为空的这部分数据我们一般有两种处理方式\n",
        "* 一种是删除，即把含有缺失值的数据删除；\n",
        "* 另一种是填充，即把缺失的那部分数据用某个值代替。\n"
      ]
    },
    {
      "cell_type": "markdown",
      "metadata": {
        "id": "WavdDLGdb2GN"
      },
      "source": [
        "## 1.EXCEL处理方法\n",
        "\n",
        "可以利用定位条件（按快捷键Ctrl+G可弹出该对话框）查找。在定位条件对话框中选择空值，单击确定就会把所有的空值选中"
      ]
    },
    {
      "cell_type": "markdown",
      "metadata": {
        "id": "xRDuMKxtcEL0"
      },
      "source": [
        "## 2.Python查看缺失值整体情况\n",
        "\n",
        "中直接调用 info()方法就会返回每一列的缺失情况。\n"
      ]
    },
    {
      "cell_type": "code",
      "metadata": {
        "colab": {
          "base_uri": "https://localhost:8080/"
        },
        "id": "_yekIk1XcLSl",
        "outputId": "0b98093c-dcf4-4b75-a9e3-4400ea5cc7e5"
      },
      "source": [
        "import pandas as pd\n",
        "df = pd.read_csv('/content/drive/MyDrive/BESTROE/dataset/Mall_Customers_NAN.csv')\n",
        "print(df.head())\n",
        "print(df.info())"
      ],
      "execution_count": 7,
      "outputs": [
        {
          "output_type": "stream",
          "name": "stdout",
          "text": [
            "   CustomerID   Genre   Age  Annual_Income_(k$)  Spending_Score\n",
            "0         1.0    Male  19.0                15.0            39.0\n",
            "1         2.0    Male  21.0                15.0            81.0\n",
            "2         3.0  Female  20.0                16.0             6.0\n",
            "3         4.0  Female  23.0                16.0            77.0\n",
            "4         5.0  Female  31.0                17.0            40.0\n",
            "<class 'pandas.core.frame.DataFrame'>\n",
            "RangeIndex: 200 entries, 0 to 199\n",
            "Data columns (total 5 columns):\n",
            " #   Column              Non-Null Count  Dtype  \n",
            "---  ------              --------------  -----  \n",
            " 0   CustomerID          198 non-null    float64\n",
            " 1   Genre               198 non-null    object \n",
            " 2   Age                 190 non-null    float64\n",
            " 3   Annual_Income_(k$)  191 non-null    float64\n",
            " 4   Spending_Score      198 non-null    float64\n",
            "dtypes: float64(4), object(1)\n",
            "memory usage: 7.9+ KB\n",
            "None\n"
          ]
        }
      ]
    },
    {
      "cell_type": "markdown",
      "metadata": {
        "id": "NHi03auldToR"
      },
      "source": [
        "Python中缺失值一般用NaN表示，从用info()方法的结果来看,Age有8个NULL值，Annual_Income_(k$)有7个控制"
      ]
    },
    {
      "cell_type": "markdown",
      "metadata": {
        "id": "JTjadPHcdlMK"
      },
      "source": [
        "## 3.isnull()方法来判断哪个值是缺失值\n",
        "\n",
        "* 如果是缺失值则返回True\n",
        "* 如果不是缺失值则返回False。"
      ]
    },
    {
      "cell_type": "code",
      "metadata": {
        "colab": {
          "base_uri": "https://localhost:8080/",
          "height": 423
        },
        "id": "5MSqDfpGdnHu",
        "outputId": "b1f9f288-d2b2-4a20-92cf-da15e89d5af2"
      },
      "source": [
        "df.isnull()"
      ],
      "execution_count": null,
      "outputs": [
        {
          "output_type": "execute_result",
          "data": {
            "text/html": [
              "<div>\n",
              "<style scoped>\n",
              "    .dataframe tbody tr th:only-of-type {\n",
              "        vertical-align: middle;\n",
              "    }\n",
              "\n",
              "    .dataframe tbody tr th {\n",
              "        vertical-align: top;\n",
              "    }\n",
              "\n",
              "    .dataframe thead th {\n",
              "        text-align: right;\n",
              "    }\n",
              "</style>\n",
              "<table border=\"1\" class=\"dataframe\">\n",
              "  <thead>\n",
              "    <tr style=\"text-align: right;\">\n",
              "      <th></th>\n",
              "      <th>CustomerID</th>\n",
              "      <th>Genre</th>\n",
              "      <th>Age</th>\n",
              "      <th>Annual_Income_(k$)</th>\n",
              "      <th>Spending_Score</th>\n",
              "    </tr>\n",
              "  </thead>\n",
              "  <tbody>\n",
              "    <tr>\n",
              "      <th>0</th>\n",
              "      <td>False</td>\n",
              "      <td>False</td>\n",
              "      <td>False</td>\n",
              "      <td>False</td>\n",
              "      <td>False</td>\n",
              "    </tr>\n",
              "    <tr>\n",
              "      <th>1</th>\n",
              "      <td>False</td>\n",
              "      <td>False</td>\n",
              "      <td>False</td>\n",
              "      <td>False</td>\n",
              "      <td>False</td>\n",
              "    </tr>\n",
              "    <tr>\n",
              "      <th>2</th>\n",
              "      <td>False</td>\n",
              "      <td>False</td>\n",
              "      <td>False</td>\n",
              "      <td>False</td>\n",
              "      <td>False</td>\n",
              "    </tr>\n",
              "    <tr>\n",
              "      <th>3</th>\n",
              "      <td>False</td>\n",
              "      <td>False</td>\n",
              "      <td>False</td>\n",
              "      <td>False</td>\n",
              "      <td>False</td>\n",
              "    </tr>\n",
              "    <tr>\n",
              "      <th>4</th>\n",
              "      <td>False</td>\n",
              "      <td>False</td>\n",
              "      <td>False</td>\n",
              "      <td>False</td>\n",
              "      <td>False</td>\n",
              "    </tr>\n",
              "    <tr>\n",
              "      <th>...</th>\n",
              "      <td>...</td>\n",
              "      <td>...</td>\n",
              "      <td>...</td>\n",
              "      <td>...</td>\n",
              "      <td>...</td>\n",
              "    </tr>\n",
              "    <tr>\n",
              "      <th>195</th>\n",
              "      <td>False</td>\n",
              "      <td>False</td>\n",
              "      <td>False</td>\n",
              "      <td>False</td>\n",
              "      <td>False</td>\n",
              "    </tr>\n",
              "    <tr>\n",
              "      <th>196</th>\n",
              "      <td>False</td>\n",
              "      <td>False</td>\n",
              "      <td>False</td>\n",
              "      <td>False</td>\n",
              "      <td>False</td>\n",
              "    </tr>\n",
              "    <tr>\n",
              "      <th>197</th>\n",
              "      <td>False</td>\n",
              "      <td>False</td>\n",
              "      <td>False</td>\n",
              "      <td>False</td>\n",
              "      <td>False</td>\n",
              "    </tr>\n",
              "    <tr>\n",
              "      <th>198</th>\n",
              "      <td>False</td>\n",
              "      <td>False</td>\n",
              "      <td>False</td>\n",
              "      <td>False</td>\n",
              "      <td>False</td>\n",
              "    </tr>\n",
              "    <tr>\n",
              "      <th>199</th>\n",
              "      <td>False</td>\n",
              "      <td>False</td>\n",
              "      <td>False</td>\n",
              "      <td>False</td>\n",
              "      <td>False</td>\n",
              "    </tr>\n",
              "  </tbody>\n",
              "</table>\n",
              "<p>200 rows × 5 columns</p>\n",
              "</div>"
            ],
            "text/plain": [
              "     CustomerID  Genre    Age  Annual_Income_(k$)  Spending_Score\n",
              "0         False  False  False               False           False\n",
              "1         False  False  False               False           False\n",
              "2         False  False  False               False           False\n",
              "3         False  False  False               False           False\n",
              "4         False  False  False               False           False\n",
              "..          ...    ...    ...                 ...             ...\n",
              "195       False  False  False               False           False\n",
              "196       False  False  False               False           False\n",
              "197       False  False  False               False           False\n",
              "198       False  False  False               False           False\n",
              "199       False  False  False               False           False\n",
              "\n",
              "[200 rows x 5 columns]"
            ]
          },
          "metadata": {},
          "execution_count": 7
        }
      ]
    },
    {
      "cell_type": "markdown",
      "metadata": {
        "id": "psMw_gkod6kc"
      },
      "source": [
        "## 4.缺失值分类\n",
        "\n",
        "- 一行中某个字段是缺失值；\n",
        "- 一行中的字段全部为缺失值，即为一个空白行。\n",
        "\n",
        "EXCEL操作方法：在Excel中，这两种缺失值都可以通过在定位条件（按快捷键Ctrl+G可弹出该对话框）对话框中选择空值找到。\n",
        "这样含有缺失值的部分就会被选中，包括某个具体的单元格及一整行，然后单击鼠标右键在弹出的删除对话框中选择删除整行选项，并单击确定按钮即可实现整行的删除。"
      ]
    },
    {
      "cell_type": "markdown",
      "metadata": {
        "id": "CQKFMMmnelIO"
      },
      "source": [
        "## 5.dropna()方法删除缺失值\n",
        "\n",
        "* 也就是只要某一行有缺失值就把这一行删除。\n",
        "* dropna常用参数：\n",
        "* DataFrame.dropna(axis=0, how='any', thresh=None, subset=None, inplace=False)\n",
        "  - axis=0：删除包含缺失值（NaN）的行(默认)\n",
        "\n",
        "  - axis=1：删除包含缺失值（NaN）的列\n",
        "\n",
        "  - how=‘any’：要有缺失值（NaN）出现删除（默认）\n",
        "\n",
        "  - how=‘all’：所有的值都缺失（NaN）才删除\n",
        "\n",
        "* data.dropna(how = 'all') # 传入这个参数后将只丢弃全为缺失值的那些行\n",
        "* data.dropna(axis = 1)  # 丢弃有缺失值的列（一般不会这么做，这样会删掉一个特征）\n",
        "* data.dropna(axis=1,how=\"all\")   # 丢弃全为缺失值的那些列\n",
        "* data.dropna(axis=0,subset = [\"Age\", \"Sex\"])   # 丢弃‘Age’和‘Sex’这两列中有缺失值的行"
      ]
    },
    {
      "cell_type": "code",
      "metadata": {
        "colab": {
          "base_uri": "https://localhost:8080/"
        },
        "id": "EZdH2u3Xerke",
        "outputId": "88d0be62-995a-4468-cdda-a03d4332cb19"
      },
      "source": [
        "df1 = df.dropna()\n",
        "print(df.info())\n",
        "print(df1.info())"
      ],
      "execution_count": null,
      "outputs": [
        {
          "output_type": "stream",
          "name": "stdout",
          "text": [
            "<class 'pandas.core.frame.DataFrame'>\n",
            "RangeIndex: 200 entries, 0 to 199\n",
            "Data columns (total 5 columns):\n",
            " #   Column              Non-Null Count  Dtype  \n",
            "---  ------              --------------  -----  \n",
            " 0   CustomerID          198 non-null    float64\n",
            " 1   Genre               198 non-null    object \n",
            " 2   Age                 190 non-null    float64\n",
            " 3   Annual_Income_(k$)  191 non-null    float64\n",
            " 4   Spending_Score      198 non-null    float64\n",
            "dtypes: float64(4), object(1)\n",
            "memory usage: 7.9+ KB\n",
            "None\n",
            "<class 'pandas.core.frame.DataFrame'>\n",
            "Int64Index: 183 entries, 0 to 199\n",
            "Data columns (total 5 columns):\n",
            " #   Column              Non-Null Count  Dtype  \n",
            "---  ------              --------------  -----  \n",
            " 0   CustomerID          183 non-null    float64\n",
            " 1   Genre               183 non-null    object \n",
            " 2   Age                 183 non-null    float64\n",
            " 3   Annual_Income_(k$)  183 non-null    float64\n",
            " 4   Spending_Score      183 non-null    float64\n",
            "dtypes: float64(4), object(1)\n",
            "memory usage: 8.6+ KB\n",
            "None\n"
          ]
        }
      ]
    },
    {
      "cell_type": "code",
      "metadata": {
        "colab": {
          "base_uri": "https://localhost:8080/"
        },
        "id": "cjWUPmuakkxE",
        "outputId": "299f6dd2-c312-4bcf-fbf2-1fe529f2d908"
      },
      "source": [
        "df2 = df.dropna(axis = 1, how = 'all');\n",
        "print(df2.info())"
      ],
      "execution_count": null,
      "outputs": [
        {
          "output_type": "stream",
          "name": "stdout",
          "text": [
            "<class 'pandas.core.frame.DataFrame'>\n",
            "RangeIndex: 200 entries, 0 to 199\n",
            "Data columns (total 5 columns):\n",
            " #   Column              Non-Null Count  Dtype  \n",
            "---  ------              --------------  -----  \n",
            " 0   CustomerID          198 non-null    float64\n",
            " 1   Genre               198 non-null    object \n",
            " 2   Age                 190 non-null    float64\n",
            " 3   Annual_Income_(k$)  191 non-null    float64\n",
            " 4   Spending_Score      198 non-null    float64\n",
            "dtypes: float64(4), object(1)\n",
            "memory usage: 7.9+ KB\n",
            "None\n"
          ]
        }
      ]
    },
    {
      "cell_type": "markdown",
      "metadata": {
        "id": "BSy1FWcafRzz"
      },
      "source": [
        "## 6.read_csv自动跳过空白行\n",
        "\n",
        "*   skip_blank_lines默认为True\n",
        "*   自动忽略空白行\n",
        "\n"
      ]
    },
    {
      "cell_type": "code",
      "metadata": {
        "colab": {
          "base_uri": "https://localhost:8080/"
        },
        "id": "NWZhzhlIfXat",
        "outputId": "5be26ebb-e9e7-4abf-8fc1-eb8b2918f041"
      },
      "source": [
        "df = pd.read_csv('/content/drive/MyDrive/BESTROE/dataset/Mall_Customers_NAN.csv', skip_blank_lines=True)\n",
        "print(df.info())\n",
        "print(df.head(20))"
      ],
      "execution_count": null,
      "outputs": [
        {
          "output_type": "stream",
          "name": "stdout",
          "text": [
            "<class 'pandas.core.frame.DataFrame'>\n",
            "RangeIndex: 200 entries, 0 to 199\n",
            "Data columns (total 5 columns):\n",
            " #   Column              Non-Null Count  Dtype  \n",
            "---  ------              --------------  -----  \n",
            " 0   CustomerID          198 non-null    float64\n",
            " 1   Genre               198 non-null    object \n",
            " 2   Age                 190 non-null    float64\n",
            " 3   Annual_Income_(k$)  191 non-null    float64\n",
            " 4   Spending_Score      198 non-null    float64\n",
            "dtypes: float64(4), object(1)\n",
            "memory usage: 7.9+ KB\n",
            "None\n",
            "    CustomerID   Genre   Age  Annual_Income_(k$)  Spending_Score\n",
            "0          1.0    Male  19.0                15.0            39.0\n",
            "1          2.0    Male  21.0                15.0            81.0\n",
            "2          3.0  Female  20.0                16.0             6.0\n",
            "3          4.0  Female  23.0                16.0            77.0\n",
            "4          5.0  Female  31.0                17.0            40.0\n",
            "5          6.0  Female  22.0                17.0            76.0\n",
            "6          7.0  Female  35.0                18.0             6.0\n",
            "7          8.0  Female  23.0                18.0            94.0\n",
            "8          9.0    Male  64.0                19.0             3.0\n",
            "9         10.0  Female  30.0                19.0            72.0\n",
            "10         NaN     NaN   NaN                 NaN             NaN\n",
            "11         NaN     NaN   NaN                 NaN             NaN\n",
            "12        13.0  Female  58.0                20.0            15.0\n",
            "13        14.0  Female  24.0                20.0            77.0\n",
            "14        15.0    Male  37.0                20.0            13.0\n",
            "15        16.0    Male  22.0                20.0            79.0\n",
            "16        17.0  Female   NaN                21.0            35.0\n",
            "17        18.0    Male   NaN                21.0            66.0\n",
            "18        19.0    Male   NaN                23.0            29.0\n",
            "19        20.0  Female   NaN                23.0            98.0\n"
          ]
        }
      ]
    },
    {
      "cell_type": "markdown",
      "metadata": {
        "id": "hR824wtHlOCB"
      },
      "source": [
        "# 缺失值填充\n",
        "\n",
        "* 数据是宝贵的，一般情况下只要数据缺失比例不是过高（不大于30%），尽量别删除，而是选择填充。\n",
        "* 填充方法：\n",
        "  - 平均值\n",
        "  - 众数\n",
        "  - 向前填充\n",
        "  - 向后填充\n",
        "  - 插值方法\n",
        "* pad / ffill：向前填充\n",
        "* bfill / backfill：向后填充\n",
        "* 使用 method{‘backfill’, ‘bfill’, ‘pad’, ‘ffill’, None}, default None\n",
        "* 使用上一个有效值填充\n",
        "* df.fillna(method='backfill')\n",
        "* 同 backfill\n",
        "* df.fillna(method='bfill')\n",
        "* 把当前值广播到后边的缺失值\n",
        "* df.fillna(method='pad')\n",
        "* 同 pad\n",
        "* df.fillna(method='ffill')"
      ]
    },
    {
      "cell_type": "markdown",
      "metadata": {
        "id": "i1MBwJLYmfFB"
      },
      "source": [
        "## 1.fillna()方法对所有缺失值进行填充\n",
        "\n",
        "- 在fillna后面的括号中输入要填充的值就好"
      ]
    },
    {
      "cell_type": "code",
      "metadata": {
        "colab": {
          "base_uri": "https://localhost:8080/"
        },
        "id": "_m9dcGUqv2vI",
        "outputId": "9f8105be-c5b6-4e86-ec6a-ecb0d4cf53d0"
      },
      "source": [
        "df1 = df.fillna(0)\n",
        "print(df1.head(20))"
      ],
      "execution_count": null,
      "outputs": [
        {
          "output_type": "stream",
          "name": "stdout",
          "text": [
            "    CustomerID   Genre   Age  Annual_Income_(k$)  Spending_Score\n",
            "0          1.0    Male  19.0                15.0            39.0\n",
            "1          2.0    Male  21.0                15.0            81.0\n",
            "2          3.0  Female  20.0                16.0             6.0\n",
            "3          4.0  Female  23.0                16.0            77.0\n",
            "4          5.0  Female  31.0                17.0            40.0\n",
            "5          6.0  Female  22.0                17.0            76.0\n",
            "6          7.0  Female  35.0                18.0             6.0\n",
            "7          8.0  Female  23.0                18.0            94.0\n",
            "8          9.0    Male  64.0                19.0             3.0\n",
            "9         10.0  Female  30.0                19.0            72.0\n",
            "10         0.0       0   0.0                 0.0             0.0\n",
            "11         0.0       0   0.0                 0.0             0.0\n",
            "12        13.0  Female  58.0                20.0            15.0\n",
            "13        14.0  Female  24.0                20.0            77.0\n",
            "14        15.0    Male  37.0                20.0            13.0\n",
            "15        16.0    Male  22.0                20.0            79.0\n",
            "16        17.0  Female   0.0                21.0            35.0\n",
            "17        18.0    Male   0.0                21.0            66.0\n",
            "18        19.0    Male   0.0                23.0            29.0\n",
            "19        20.0  Female   0.0                23.0            98.0\n"
          ]
        }
      ]
    },
    {
      "cell_type": "markdown",
      "metadata": {
        "id": "QQ8lDlCSw-D5"
      },
      "source": [
        "## 2.向前/向后填充"
      ]
    },
    {
      "cell_type": "code",
      "metadata": {
        "colab": {
          "base_uri": "https://localhost:8080/"
        },
        "id": "rbk9butSxC5n",
        "outputId": "6bb02794-8780-41c9-f509-db35ee246d5f"
      },
      "source": [
        "df_ffill = df.fillna(method='ffill')\n",
        "print(df_ffill.head(15))\n",
        "df_bfill = df.fillna(method='bfill')\n",
        "print(df_bfill.head(15))\n",
        "# 主要看第10和11行"
      ],
      "execution_count": null,
      "outputs": [
        {
          "output_type": "stream",
          "name": "stdout",
          "text": [
            "    CustomerID   Genre   Age  Annual_Income_(k$)  Spending_Score\n",
            "0          1.0    Male  19.0                15.0            39.0\n",
            "1          2.0    Male  21.0                15.0            81.0\n",
            "2          3.0  Female  20.0                16.0             6.0\n",
            "3          4.0  Female  23.0                16.0            77.0\n",
            "4          5.0  Female  31.0                17.0            40.0\n",
            "5          6.0  Female  22.0                17.0            76.0\n",
            "6          7.0  Female  35.0                18.0             6.0\n",
            "7          8.0  Female  23.0                18.0            94.0\n",
            "8          9.0    Male  64.0                19.0             3.0\n",
            "9         10.0  Female  30.0                19.0            72.0\n",
            "10        10.0  Female  30.0                19.0            72.0\n",
            "11        10.0  Female  30.0                19.0            72.0\n",
            "12        13.0  Female  58.0                20.0            15.0\n",
            "13        14.0  Female  24.0                20.0            77.0\n",
            "14        15.0    Male  37.0                20.0            13.0\n",
            "    CustomerID   Genre   Age  Annual_Income_(k$)  Spending_Score\n",
            "0          1.0    Male  19.0                15.0            39.0\n",
            "1          2.0    Male  21.0                15.0            81.0\n",
            "2          3.0  Female  20.0                16.0             6.0\n",
            "3          4.0  Female  23.0                16.0            77.0\n",
            "4          5.0  Female  31.0                17.0            40.0\n",
            "5          6.0  Female  22.0                17.0            76.0\n",
            "6          7.0  Female  35.0                18.0             6.0\n",
            "7          8.0  Female  23.0                18.0            94.0\n",
            "8          9.0    Male  64.0                19.0             3.0\n",
            "9         10.0  Female  30.0                19.0            72.0\n",
            "10        13.0  Female  58.0                20.0            15.0\n",
            "11        13.0  Female  58.0                20.0            15.0\n",
            "12        13.0  Female  58.0                20.0            15.0\n",
            "13        14.0  Female  24.0                20.0            77.0\n",
            "14        15.0    Male  37.0                20.0            13.0\n"
          ]
        }
      ]
    },
    {
      "cell_type": "markdown",
      "metadata": {
        "id": "l6UTOts5yQAw"
      },
      "source": [
        "## 3.按不同列填充"
      ]
    },
    {
      "cell_type": "code",
      "metadata": {
        "colab": {
          "base_uri": "https://localhost:8080/"
        },
        "id": "0IS3E4I1ywXC",
        "outputId": "9c0bc422-af36-4d44-9e92-0b25d00c01f5"
      },
      "source": [
        "df_col = df.fillna({'Spending_Score': 88})\n",
        "print(df_col.head(15))\n",
        "df_cols = df.fillna({'Spending_Score': 88, 'Age': 33})\n",
        "print(df_cols.head(15))"
      ],
      "execution_count": null,
      "outputs": [
        {
          "output_type": "stream",
          "name": "stdout",
          "text": [
            "    CustomerID   Genre   Age  Annual_Income_(k$)  Spending_Score\n",
            "0          1.0    Male  19.0                15.0            39.0\n",
            "1          2.0    Male  21.0                15.0            81.0\n",
            "2          3.0  Female  20.0                16.0             6.0\n",
            "3          4.0  Female  23.0                16.0            77.0\n",
            "4          5.0  Female  31.0                17.0            40.0\n",
            "5          6.0  Female  22.0                17.0            76.0\n",
            "6          7.0  Female  35.0                18.0             6.0\n",
            "7          8.0  Female  23.0                18.0            94.0\n",
            "8          9.0    Male  64.0                19.0             3.0\n",
            "9         10.0  Female  30.0                19.0            72.0\n",
            "10         NaN     NaN   NaN                 NaN            88.0\n",
            "11         NaN     NaN   NaN                 NaN            88.0\n",
            "12        13.0  Female  58.0                20.0            15.0\n",
            "13        14.0  Female  24.0                20.0            77.0\n",
            "14        15.0    Male  37.0                20.0            13.0\n",
            "    CustomerID   Genre   Age  Annual_Income_(k$)  Spending_Score\n",
            "0          1.0    Male  19.0                15.0            39.0\n",
            "1          2.0    Male  21.0                15.0            81.0\n",
            "2          3.0  Female  20.0                16.0             6.0\n",
            "3          4.0  Female  23.0                16.0            77.0\n",
            "4          5.0  Female  31.0                17.0            40.0\n",
            "5          6.0  Female  22.0                17.0            76.0\n",
            "6          7.0  Female  35.0                18.0             6.0\n",
            "7          8.0  Female  23.0                18.0            94.0\n",
            "8          9.0    Male  64.0                19.0             3.0\n",
            "9         10.0  Female  30.0                19.0            72.0\n",
            "10         NaN     NaN  33.0                 NaN            88.0\n",
            "11         NaN     NaN  33.0                 NaN            88.0\n",
            "12        13.0  Female  58.0                20.0            15.0\n",
            "13        14.0  Female  24.0                20.0            77.0\n",
            "14        15.0    Male  37.0                20.0            13.0\n"
          ]
        }
      ]
    },
    {
      "cell_type": "markdown",
      "metadata": {
        "id": "SQippH-fRQ3-"
      },
      "source": [
        "# 重复值处理\n",
        "\n",
        "* 重复数据就是同样的记录有多条，对于这样的数据我们一般做删除处理。\n",
        "* 在Excel中依次单击菜单栏中的数据>数据工具>删除重复值，就可以删除重复数据了"
      ]
    },
    {
      "cell_type": "markdown",
      "metadata": {
        "id": "TDjkvb8JdUL2"
      },
      "source": [
        "## 1.drop_duplicates()方法\n",
        "\n",
        "* 该方法默认对所有值进行重复值判断，且默认保留第一个（行）值\n",
        "* 还可以自定义删除重复项时保留哪个，默认保留第一个，也可以设置保留最后一个，或者全部不保留。\n",
        "* 通过传入参数keep进行设置，参数keep默认值是first，即保留第一个值；\n",
        "* 也可以是last，保留最后一个值；\n",
        "* 还可以是False，即把重复值全部删除。"
      ]
    },
    {
      "cell_type": "code",
      "metadata": {
        "colab": {
          "base_uri": "https://localhost:8080/"
        },
        "id": "SLk6wcWleOPH",
        "outputId": "40b0140a-0441-42ee-aaec-9fa2b393c052"
      },
      "source": [
        "# 针对所有字段进行的重复值判断\n",
        "df1 = df.drop_duplicates()\n",
        "print(df1)\n",
        "# 针对某一列或某几列进行重复值删除的判断\n",
        "df2 = df.drop_duplicates(subset= ['CustomerID', 'Spending_Score', 'Age'])\n",
        "print(df2)\n",
        "# 保留最后一个重复值\n",
        "df3 = df.drop_duplicates(subset= ['CustomerID', 'Spending_Score'], keep = \"last\")\n",
        "# 不保留任何重复值\n",
        "df4 = df.drop_duplicates(subset= ['CustomerID', 'Spending_Score'], keep = False)"
      ],
      "execution_count": null,
      "outputs": [
        {
          "output_type": "stream",
          "name": "stdout",
          "text": [
            "     CustomerID   Genre   Age  Annual_Income_(k$)  Spending_Score\n",
            "0           1.0    Male  19.0                15.0            39.0\n",
            "1           2.0    Male  21.0                15.0            81.0\n",
            "2           3.0  Female  20.0                16.0             6.0\n",
            "3           4.0  Female  23.0                16.0            77.0\n",
            "4           5.0  Female  31.0                17.0            40.0\n",
            "..          ...     ...   ...                 ...             ...\n",
            "195       196.0  Female  35.0               120.0            79.0\n",
            "196       197.0  Female  45.0               126.0            28.0\n",
            "197       198.0    Male  32.0               126.0            74.0\n",
            "198       199.0    Male  32.0               137.0            18.0\n",
            "199       200.0    Male  30.0               137.0            83.0\n",
            "\n",
            "[199 rows x 5 columns]\n",
            "     CustomerID   Genre   Age  Annual_Income_(k$)  Spending_Score\n",
            "0           1.0    Male  19.0                15.0            39.0\n",
            "1           2.0    Male  21.0                15.0            81.0\n",
            "2           3.0  Female  20.0                16.0             6.0\n",
            "3           4.0  Female  23.0                16.0            77.0\n",
            "4           5.0  Female  31.0                17.0            40.0\n",
            "..          ...     ...   ...                 ...             ...\n",
            "195       196.0  Female  35.0               120.0            79.0\n",
            "196       197.0  Female  45.0               126.0            28.0\n",
            "197       198.0    Male  32.0               126.0            74.0\n",
            "198       199.0    Male  32.0               137.0            18.0\n",
            "199       200.0    Male  30.0               137.0            83.0\n",
            "\n",
            "[199 rows x 5 columns]\n"
          ]
        }
      ]
    },
    {
      "cell_type": "markdown",
      "metadata": {
        "id": "Kccc1cGfowgO"
      },
      "source": [
        "# 单特征异常值检测与处理\n",
        "\n",
        " * **异常值检测一定是在缺失值已经处理完了之后进行的**\n",
        " * **异常值有两种类型：单变量和多变量。 以上，我们讨论了单变量异常值的例子。 当我们看到单变量的分布时，可以找到这些异常值。 多变量异常值是n维空间中的异常值，必须通过多维度的分布。**\n",
        "\n",
        "---\n",
        "![outlier.png](data:image/png;base64,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)\n",
        "\n",
        "\n",
        "异常值就是相比正常数据而言过高或过低的数据，比如一个人的年龄是0岁或者300岁都算是一个异常值，因为这和实际情况差距过大。\n",
        "\n",
        "* <strong>发现异常的方式<strong>:\n",
        "  - 根据业务经验划定不同指标的正常范围，超过该范围的值算作异常值。\n",
        "  - 通过绘制箱形图，把大于（小于）箱形图上边缘（下边缘）的点称为异常值。\n",
        "  - 如果数据服从正态分布，则可以利用3σ 原则；如果一个数值与平均值之间的偏差超过3倍标准差，那么我们就认为这个值是异常值。\n",
        "\n",
        "* 异常值的处理方式\n",
        "  - 删除\n",
        "  - 把异常当作缺失值来填充\n",
        "  - 把异常值当作特殊情况，研究异常值出现的原因\n",
        "* Excel实现\n",
        "  - 在Excel中，删除异常值只要通过筛选把异常值对应的行找出来，然后单击鼠标右键选择删除行即可。\n",
        "  - 对异常值进行填充，其实就是对异常值进行替换，同样通过筛选功能把异常值先找出来，然后把这些异常值替换成要填充的值即可。\n",
        "\n",
        "* Python实现\n",
        "  - 通过过滤的方法对异常值进行删除\n",
        "  - 对异常值进行填充，就是对异常值进行替换，利用replace()方法可以对特定的值进行替换。\n",
        "\n",
        "* <a href =\"https://segmentfault.com/a/1190000015926584\">异常值检测方法小结</a>\n"
      ]
    },
    {
      "cell_type": "markdown",
      "metadata": {
        "id": "j2H2Oh8-t8FQ"
      },
      "source": [
        "## 1.箱线图异常值检测\n",
        "- 四分位距(IQR)就是上四分位与下四分位的差值。而我们通过IQR的1.5倍为标准\n",
        "- 规定：超过上四分位+1.5倍IQR距离，或者下四分位-1.5倍IQR距离的点为异常值。\n",
        "![IQR.png](data:image/png;base64,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)"
      ]
    },
    {
      "cell_type": "code",
      "metadata": {
        "id": "vC7qENw1vN1g"
      },
      "source": [
        "Percentile = np.percentile(df['length'],[0,25,50,75,100])\n",
        "IQR = Percentile[3] - Percentile[1]\n",
        "UpLimit = Percentile[3]+ageIQR*1.5\n",
        "DownLimit = Percentile[1]-ageIQR*1.5"
      ],
      "execution_count": null,
      "outputs": []
    },
    {
      "cell_type": "code",
      "metadata": {
        "colab": {
          "base_uri": "https://localhost:8080/",
          "height": 486
        },
        "id": "oQ8o2fcvvOzk",
        "outputId": "68a4e173-b54a-4a0a-867f-8e0a276b181a"
      },
      "source": [
        "import numpy as np\n",
        "import pandas as pd\n",
        "\n",
        "# 读取数据.csv\n",
        "df = pd.read_csv('/content/drive/MyDrive/BESTROE/dataset/Mall_Customers.csv')\n",
        "# 获取四分位对应的数值\n",
        "Percentile = np.percentile(df['Spending_Score'], [0,25,50,75,100])\n",
        "# 获取四分位距IQR\n",
        "IQR = Percentile[3] - Percentile[1]\n",
        "UpLimit = Percentile[3] + IQR * 1.5\n",
        "DownLimit = Percentile[1] - IQR * 1.5\n",
        "print('异常检测的上限为{}, 下限为{}'.format(UpLimit, DownLimit))\n",
        "\n",
        "# 使用seaborn的可视化方法boxplot\n",
        "import seaborn as sns\n",
        "import matplotlib.pyplot as plt\n",
        "\n",
        "%matplotlib inline\n",
        "f,ax=plt.subplots(figsize=(10,8))\n",
        "sns.boxplot(y = 'Spending_Score', data = df, ax =ax)\n",
        "plt.show()"
      ],
      "execution_count": 11,
      "outputs": [
        {
          "output_type": "stream",
          "name": "stdout",
          "text": [
            "异常检测的上限为130.375, 下限为-22.625\n"
          ]
        },
        {
          "output_type": "display_data",
          "data": {
            "image/png": "[encoded data removed]",
            "text/plain": [
              "<Figure size 720x576 with 1 Axes>"
            ]
          },
          "metadata": {
            "needs_background": "light"
          }
        }
      ]
    },
    {
      "cell_type": "code",
      "metadata": {
        "colab": {
          "base_uri": "https://localhost:8080/"
        },
        "id": "2LkeTpzQ7HJO",
        "outputId": "4f102f48-cadd-4018-8d72-a46fed373d9b"
      },
      "source": [
        "# 第二种方法,这种方法比较简单\n",
        "import pandas as pd\n",
        "# Outliers will be any points below Lower_Whisker or above Upper_Whisker\n",
        "# 读取数据.csv\n",
        "df = pd.read_csv('/content/drive/MyDrive/BESTROE/dataset/Mall_Customers.csv')\n",
        "Q1=df['Spending_Score'].quantile(0.25)\n",
        "Q3=df['Spending_Score'].quantile(0.75)\n",
        "IQR=Q3-Q1\n",
        "print(Q1)\n",
        "print(Q3)\n",
        "print(IQR)\n",
        "Lower_Whisker = Q1 - 1.5*IQR\n",
        "Upper_Whisker = Q3 + 1.5*IQR\n",
        "print(Lower_Whisker, Upper_Whisker)"
      ],
      "execution_count": 13,
      "outputs": [
        {
          "output_type": "stream",
          "name": "stdout",
          "text": [
            "34.75\n",
            "73.0\n",
            "38.25\n",
            "-22.625 130.375\n"
          ]
        }
      ]
    },
    {
      "cell_type": "markdown",
      "metadata": {
        "id": "URP4soZ76Ltq"
      },
      "source": [
        "## 2.使用Using Scatter plot\n",
        "这种图就得指定行索引和列索引了"
      ]
    },
    {
      "cell_type": "code",
      "metadata": {
        "colab": {
          "base_uri": "https://localhost:8080/",
          "height": 514
        },
        "id": "54-XAwZCAYkk",
        "outputId": "e86cd4ac-aa14-46fe-c89c-e091e2033833"
      },
      "source": [
        "import pandas as pd\n",
        "\n",
        "df = pd.read_csv('/content/drive/MyDrive/BESTROE/dataset/Mall_Customers.csv')\n",
        "\n",
        "ax1 = df.plot.scatter(x='Age', y='Spending_Score',c='DarkBlue')\n",
        "# 使用由Annual_Income_(k$)列确定的颜色。\n",
        "ax2 = df.plot.scatter(x='Age', y='Spending_Score', c='Annual_Income_(k$)', colormap='viridis')"
      ],
      "execution_count": 27,
      "outputs": [
        {
          "output_type": "display_data",
          "data": {
            "image/png": "[encoded data removed]",
            "text/plain": [
              "<Figure size 432x288 with 1 Axes>"
            ]
          },
          "metadata": {
            "needs_background": "light"
          }
        },
        {
          "output_type": "display_data",
          "data": {
            "image/png": "[encoded data removed]",
            "text/plain": [
              "<Figure size 432x288 with 2 Axes>"
            ]
          },
          "metadata": {
            "needs_background": "light"
          }
        }
      ]
    },
    {
      "cell_type": "markdown",
      "metadata": {
        "id": "dWyMpLXh6ZVV"
      },
      "source": [
        "## 3.使用 Z score\n",
        "我们找到数据集中每个数据点的 z-score，如果 z-score 大于 3，我们可以将该点归类为异常值。 3 个标准差之外的任何点都是异常值。"
      ]
    },
    {
      "cell_type": "code",
      "metadata": {
        "colab": {
          "base_uri": "https://localhost:8080/"
        },
        "id": "PQ1LbKMu9Lpq",
        "outputId": "420524b9-adc3-43f6-8700-6b26ed054951"
      },
      "source": [
        "# Get the Z-score table\n",
        "import pandas as pd\n",
        "import numpy as np\n",
        "from scipy import stats\n",
        "\n",
        "# 异常值检测一定是在缺失值已经处理完了之后进行的\n",
        "# df = pd.read_csv('/content/drive/MyDrive/BESTROE/dataset/Mall_Customers_NAN.csv')\n",
        "df = pd.read_csv('/content/drive/MyDrive/BESTROE/dataset/Mall_Customers.csv')\n",
        "\n",
        "z = np.abs(stats.zscore(df.Spending_Score))\n",
        "print(z)\n",
        "# 找到异常值的点，并按照数组输出\n",
        "# threshold=3\n",
        "print(np.where(z>3))\n",
        "# 得到小于3的值\n",
        "df1=df[(z < 3)]\n",
        "print(df1)\n",
        "print(df1.shape)"
      ],
      "execution_count": 23,
      "outputs": [
        {
          "output_type": "stream",
          "name": "stdout",
          "text": [
            "[0.43480148 1.19570407 1.71591298 1.04041783 0.39597992 1.00159627\n",
            " 1.71591298 1.70038436 1.83237767 0.84631002 1.4053405  1.89449216\n",
            " 1.36651894 1.04041783 1.44416206 1.11806095 0.59008772 0.61338066\n",
            " 0.82301709 1.8556706  0.59008772 0.88513158 1.75473454 0.88513158\n",
            " 1.4053405  1.23452563 0.7065524  0.41927286 0.74537397 1.42863343\n",
            " 1.7935561  0.88513158 1.7935561  1.62274124 1.4053405  1.19570407\n",
            " 1.28887582 0.88513158 0.93948177 0.96277471 0.59008772 1.62274124\n",
            " 0.55126616 0.41927286 0.86183865 0.5745591  0.18634349 0.12422899\n",
            " 0.3183368  0.3183368  0.06987881 0.38045129 0.14752193 0.38045129\n",
            " 0.20187212 0.35715836 0.00776431 0.16305055 0.03105725 0.16305055\n",
            " 0.22516505 0.18634349 0.06987881 0.34162973 0.03105725 0.34162973\n",
            " 0.00776431 0.08540743 0.34162973 0.12422899 0.18634349 0.3183368\n",
            " 0.04658587 0.22516505 0.12422899 0.14752193 0.10870037 0.08540743\n",
            " 0.06987881 0.3183368  0.03105725 0.18634349 0.35715836 0.24069368\n",
            " 0.26398661 0.16305055 0.30280817 0.18634349 0.38045129 0.16305055\n",
            " 0.18634349 0.35715836 0.04658587 0.39597992 0.3183368  0.06987881\n",
            " 0.12422899 0.00776431 0.3183368  0.04658587 0.35715836 0.08540743\n",
            " 0.34162973 0.18634349 0.22516505 0.3183368  0.00776431 0.16305055\n",
            " 0.27951524 0.08540743 0.06987881 0.14752193 0.3183368  0.16305055\n",
            " 0.08540743 0.00776431 0.27951524 0.34162973 0.27951524 0.26398661\n",
            " 0.22516505 0.39597992 0.30280817 1.58391968 0.82301709 1.04041783\n",
            " 0.59008772 1.73920592 1.52180518 0.96277471 1.5994483  0.96277471\n",
            " 0.62890928 0.80748846 1.75473454 1.46745499 1.67709142 0.88513158\n",
            " 1.56062674 0.84631002 1.75473454 1.6615628  0.39597992 1.42863343\n",
            " 1.48298362 1.81684904 0.55126616 0.92395314 1.09476801 1.54509812\n",
            " 1.28887582 1.46745499 1.17241113 1.00159627 1.32769738 1.50627656\n",
            " 1.91002079 1.07923939 1.91002079 0.88513158 0.59008772 1.27334719\n",
            " 1.75473454 1.6615628  0.93948177 0.96277471 1.17241113 1.73920592\n",
            " 0.90066021 0.49691598 1.44416206 0.96277471 1.56062674 1.62274124\n",
            " 1.44416206 1.38981187 1.36651894 0.72984534 1.4053405  1.54509812\n",
            " 0.7065524  1.38981187 1.36651894 1.46745499 0.43480148 1.81684904\n",
            " 1.01712489 0.69102378 1.28887582 1.35099031 1.05594645 0.72984534\n",
            " 1.63826986 1.58391968 1.32769738 1.11806095 0.86183865 0.92395314\n",
            " 1.25005425 1.27334719]\n",
            "(array([], dtype=int64),)\n",
            "     CustomerID   Genre  Age  Annual_Income_(k$)  Spending_Score\n",
            "0             1    Male   19                  15              39\n",
            "1             2    Male   21                  15              81\n",
            "2             3  Female   20                  16               6\n",
            "3             4  Female   23                  16              77\n",
            "4             5  Female   31                  17              40\n",
            "..          ...     ...  ...                 ...             ...\n",
            "195         196  Female   35                 120              79\n",
            "196         197  Female   45                 126              28\n",
            "197         198    Male   32                 126              74\n",
            "198         199    Male   32                 137              18\n",
            "199         200    Male   30                 137              83\n",
            "\n",
            "[200 rows x 5 columns]\n",
            "(200, 5)\n"
          ]
        }
      ]
    },
    {
      "cell_type": "markdown",
      "metadata": {
        "id": "epIwpOagypUe"
      },
      "source": [
        "## 2.异常值填充\n",
        "\n",
        "- 对异常值进行替换，利用replace()方法可以对特定的值进行替换。\n",
        "- [df.replace()详细介绍](https://pandas.pydata.org/pandas-docs/stable/reference/api/pandas.DataFrame.replace.html)"
      ]
    },
    {
      "cell_type": "code",
      "metadata": {
        "colab": {
          "base_uri": "https://localhost:8080/",
          "height": 309
        },
        "id": "1Rv_N9QRDKP_",
        "outputId": "da9f7511-7707-43e3-8047-0ae73a5cbaea"
      },
      "source": [
        "df = pd.DataFrame({'A': [0, 1, 2, 3, 4],\n",
        "                   'B': [5, 6, 7, 8, 9],\n",
        "                   'C': ['a', 'b', 'c', 'd', 'e']})\n",
        "print(df)\n",
        "df.replace(0, 5)"
      ],
      "execution_count": 29,
      "outputs": [
        {
          "output_type": "stream",
          "name": "stdout",
          "text": [
            "   A  B  C\n",
            "0  0  5  a\n",
            "1  1  6  b\n",
            "2  2  7  c\n",
            "3  3  8  d\n",
            "4  4  9  e\n"
          ]
        },
        {
          "output_type": "execute_result",
          "data": {
            "text/html": [
              "<div>\n",
              "<style scoped>\n",
              "    .dataframe tbody tr th:only-of-type {\n",
              "        vertical-align: middle;\n",
              "    }\n",
              "\n",
              "    .dataframe tbody tr th {\n",
              "        vertical-align: top;\n",
              "    }\n",
              "\n",
              "    .dataframe thead th {\n",
              "        text-align: right;\n",
              "    }\n",
              "</style>\n",
              "<table border=\"1\" class=\"dataframe\">\n",
              "  <thead>\n",
              "    <tr style=\"text-align: right;\">\n",
              "      <th></th>\n",
              "      <th>A</th>\n",
              "      <th>B</th>\n",
              "      <th>C</th>\n",
              "    </tr>\n",
              "  </thead>\n",
              "  <tbody>\n",
              "    <tr>\n",
              "      <th>0</th>\n",
              "      <td>5</td>\n",
              "      <td>5</td>\n",
              "      <td>a</td>\n",
              "    </tr>\n",
              "    <tr>\n",
              "      <th>1</th>\n",
              "      <td>1</td>\n",
              "      <td>6</td>\n",
              "      <td>b</td>\n",
              "    </tr>\n",
              "    <tr>\n",
              "      <th>2</th>\n",
              "      <td>2</td>\n",
              "      <td>7</td>\n",
              "      <td>c</td>\n",
              "    </tr>\n",
              "    <tr>\n",
              "      <th>3</th>\n",
              "      <td>3</td>\n",
              "      <td>8</td>\n",
              "      <td>d</td>\n",
              "    </tr>\n",
              "    <tr>\n",
              "      <th>4</th>\n",
              "      <td>4</td>\n",
              "      <td>9</td>\n",
              "      <td>e</td>\n",
              "    </tr>\n",
              "  </tbody>\n",
              "</table>\n",
              "</div>"
            ],
            "text/plain": [
              "   A  B  C\n",
              "0  5  5  a\n",
              "1  1  6  b\n",
              "2  2  7  c\n",
              "3  3  8  d\n",
              "4  4  9  e"
            ]
          },
          "metadata": {},
          "execution_count": 29
        }
      ]
    },
    {
      "cell_type": "markdown",
      "metadata": {
        "id": "4KPYmkAt8MU8"
      },
      "source": [
        "## 5.异常值删除"
      ]
    },
    {
      "cell_type": "code",
      "metadata": {
        "colab": {
          "base_uri": "https://localhost:8080/"
        },
        "id": "1lKcPM-c8RIN",
        "outputId": "fb533189-74b4-4275-ce4c-fa1aebb7b4a1"
      },
      "source": [
        "df = df[df['Spending_Score'] < Upper_Whisker]\n",
        "df = df[df['Spending_Score'] > Lower_Whisker]\n",
        "print(df.head(15))"
      ],
      "execution_count": 21,
      "outputs": [
        {
          "output_type": "stream",
          "name": "stdout",
          "text": [
            "    CustomerID   Genre  Age  Annual_Income_(k$)  Spending_Score\n",
            "0            1    Male   19                  15              39\n",
            "1            2    Male   21                  15              81\n",
            "2            3  Female   20                  16               6\n",
            "3            4  Female   23                  16              77\n",
            "4            5  Female   31                  17              40\n",
            "5            6  Female   22                  17              76\n",
            "6            7  Female   35                  18               6\n",
            "7            8  Female   23                  18              94\n",
            "8            9    Male   64                  19               3\n",
            "9           10  Female   30                  19              72\n",
            "10          11    Male   67                  19              14\n",
            "11          12  Female   35                  19              99\n",
            "12          13  Female   58                  20              15\n",
            "13          14  Female   24                  20              77\n",
            "14          15    Male   37                  20              13\n"
          ]
        }
      ]
    },
    {
      "cell_type": "markdown",
      "metadata": {
        "id": "HbBSnmnU_hPH"
      },
      "source": [
        "# 多特征异常值检测与处理\n",
        "\n",
        "这种需要补充"
      ]
    },
    {
      "cell_type": "markdown",
      "metadata": {
        "id": "cafvDj1wDtEG"
      },
      "source": [
        "# 数据类型转换\n",
        "\n",
        "* Python的六种数据类型\n",
        "![dtype.png](data:image/png;base64,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)"
      ]
    },
    {
      "cell_type": "markdown",
      "metadata": {
        "id": "wQ4VsY1-D1fI"
      },
      "source": [
        "## 1.数据类型的获取方式\n",
        "\n",
        "* \n",
        "```\n",
        "df.info\n",
        "```\n",
        "\n",
        "* \n",
        "```\n",
        "dtype\n",
        "```\n",
        "\n",
        "\n",
        "\n"
      ]
    },
    {
      "cell_type": "code",
      "metadata": {
        "colab": {
          "base_uri": "https://localhost:8080/"
        },
        "id": "oyKmX0cPElxp",
        "outputId": "ce9bf075-9204-4a36-bda5-eae4884a0cf9"
      },
      "source": [
        "# 获取每一列的数据类型\n",
        "import pandas as pd\n",
        "\n",
        "df = pd.read_csv('/content/drive/MyDrive/BESTROE/dataset/Mall_Customers.csv')\n",
        "print(df.info())\n",
        "\n",
        "# 获取某一列的数据类型\n",
        "print(df['Age'].dtype)"
      ],
      "execution_count": 30,
      "outputs": [
        {
          "output_type": "stream",
          "name": "stdout",
          "text": [
            "<class 'pandas.core.frame.DataFrame'>\n",
            "RangeIndex: 200 entries, 0 to 199\n",
            "Data columns (total 5 columns):\n",
            " #   Column              Non-Null Count  Dtype \n",
            "---  ------              --------------  ----- \n",
            " 0   CustomerID          200 non-null    int64 \n",
            " 1   Genre               200 non-null    object\n",
            " 2   Age                 200 non-null    int64 \n",
            " 3   Annual_Income_(k$)  200 non-null    int64 \n",
            " 4   Spending_Score      200 non-null    int64 \n",
            "dtypes: int64(4), object(1)\n",
            "memory usage: 7.9+ KB\n",
            "None\n",
            "int64\n"
          ]
        }
      ]
    },
    {
      "cell_type": "markdown",
      "metadata": {
        "id": "rUL8RK28FfxL"
      },
      "source": [
        "## 2.类型转换\n",
        "\n",
        "- 在Python中，我们利用astype()方法对数据类型进行转换\n",
        "- astype后面的括号里指明要转换的目标类型即可。"
      ]
    },
    {
      "cell_type": "code",
      "metadata": {
        "colab": {
          "base_uri": "https://localhost:8080/"
        },
        "id": "i5UAeO-1F3cR",
        "outputId": "fdb2ae2f-cc85-4459-94a6-89fbcc5da447"
      },
      "source": [
        "import pandas as pd\n",
        "\n",
        "df = pd.read_csv('/content/drive/MyDrive/BESTROE/dataset/Mall_Customers.csv')\n",
        "\n",
        "df[\"Annual_Income_(k$)\"].dtype\n",
        "\n",
        "# 将df[\"Annual_Income_(k$)\"]从int类型转换为float类型\n",
        "df1 = df[\"Annual_Income_(k$)\"].astype(\"float64\")\n",
        "print(df1.head(10))"
      ],
      "execution_count": 34,
      "outputs": [
        {
          "output_type": "stream",
          "name": "stdout",
          "text": [
            "0    15.0\n",
            "1    15.0\n",
            "2    16.0\n",
            "3    16.0\n",
            "4    17.0\n",
            "5    17.0\n",
            "6    18.0\n",
            "7    18.0\n",
            "8    19.0\n",
            "9    19.0\n",
            "Name: Annual_Income_(k$), dtype: float64\n"
          ]
        }
      ]
    }
  ]
}